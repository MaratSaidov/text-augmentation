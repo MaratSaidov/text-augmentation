{
  "nbformat": 4,
  "nbformat_minor": 0,
  "metadata": {
    "kernelspec": {
      "name": "python3",
      "display_name": "Python 3"
    },
    "language_info": {
      "codemirror_mode": {
        "name": "ipython",
        "version": 3
      },
      "file_extension": ".py",
      "mimetype": "text/x-python",
      "name": "python",
      "nbconvert_exporter": "python",
      "pygments_lexer": "ipython3",
      "version": "3.6.8"
    },
    "colab": {
      "name": "preprocessing-gru-baseline.ipynb",
      "provenance": [],
      "collapsed_sections": [],
      "machine_shape": "hm"
    },
    "accelerator": "GPU"
  },
  "cells": [
    {
      "cell_type": "code",
      "metadata": {
        "id": "DCEppZ3QdMoM",
        "colab_type": "code",
        "outputId": "2e7a4f29-b929-4c92-9ae5-3754c6cc883f",
        "colab": {
          "base_uri": "https://localhost:8080/",
          "height": 128
        }
      },
      "source": [
        "from google.colab import drive\n",
        "drive.mount('/content/drive')"
      ],
      "execution_count": 1,
      "outputs": [
        {
          "output_type": "stream",
          "text": [
            "Go to this URL in a browser: https://accounts.google.com/o/oauth2/auth?client_id=947318989803-6bn6qk8qdgf4n4g3pfee6491hc0brc4i.apps.googleusercontent.com&redirect_uri=urn%3aietf%3awg%3aoauth%3a2.0%3aoob&response_type=code&scope=email%20https%3a%2f%2fwww.googleapis.com%2fauth%2fdocs.test%20https%3a%2f%2fwww.googleapis.com%2fauth%2fdrive%20https%3a%2f%2fwww.googleapis.com%2fauth%2fdrive.photos.readonly%20https%3a%2f%2fwww.googleapis.com%2fauth%2fpeopleapi.readonly\n",
            "\n",
            "Enter your authorization code:\n",
            "··········\n",
            "Mounted at /content/drive\n"
          ],
          "name": "stdout"
        }
      ]
    },
    {
      "cell_type": "code",
      "metadata": {
        "id": "H4_wJ4hMdB1O",
        "colab_type": "code",
        "colab": {}
      },
      "source": [
        "import numpy as np\n",
        "import nltk\n",
        "from nltk.corpus import stopwords\n",
        "import pandas as pd\n",
        "import re\n",
        "from nltk.stem import WordNetLemmatizer\n",
        "import torch\n",
        "import torch.nn as nn\n",
        "from torch.utils.data import DataLoader, Dataset\n",
        "import matplotlib.pyplot as plt\n",
        "from collections import Counter\n",
        "from sklearn.preprocessing import LabelEncoder\n",
        "from sklearn.model_selection import train_test_split\n",
        "import time"
      ],
      "execution_count": 0,
      "outputs": []
    },
    {
      "cell_type": "code",
      "metadata": {
        "id": "6rqHZCjMLtSs",
        "colab_type": "code",
        "colab": {}
      },
      "source": [
        "!export CUDA_LAUNCH_BLOCKING=1"
      ],
      "execution_count": 0,
      "outputs": []
    },
    {
      "cell_type": "code",
      "metadata": {
        "id": "Up5lFXyRJJKD",
        "colab_type": "code",
        "colab": {}
      },
      "source": [
        "!pip freeze --local > /content/gdrive/My\\ Drive/colab_installed.txt\n",
        "!pip install --upgrade wandb\n",
        "!pip install --upgrade --force-reinstall `cat/content/gdrive/My\\ Drive/colab_installed.txt`\n",
        "!wandb login c54b2fcb6b8ca2808f5be303a8a3b6e464f52cca"
      ],
      "execution_count": 0,
      "outputs": []
    },
    {
      "cell_type": "code",
      "metadata": {
        "id": "8wahSdjLJYsl",
        "colab_type": "code",
        "outputId": "1dbb87fc-196c-4368-b50e-c7a67fdef8c4",
        "colab": {
          "base_uri": "https://localhost:8080/",
          "height": 87
        }
      },
      "source": [
        "import wandb\n",
        "wandb.init(project=\"text-augmentation\")"
      ],
      "execution_count": 5,
      "outputs": [
        {
          "output_type": "display_data",
          "data": {
            "text/html": [
              "\n",
              "                Logging results to <a href=\"https://wandb.com\" target=\"_blank\">Weights & Biases</a> <a href=\"https://docs.wandb.com/integrations/jupyter.html\" target=\"_blank\">(Documentation)</a>.<br/>\n",
              "                Project page: <a href=\"https://app.wandb.ai/msaidov/text-augmentation\" target=\"_blank\">https://app.wandb.ai/msaidov/text-augmentation</a><br/>\n",
              "                Run page: <a href=\"https://app.wandb.ai/msaidov/text-augmentation/runs/9wykvvf8\" target=\"_blank\">https://app.wandb.ai/msaidov/text-augmentation/runs/9wykvvf8</a><br/>\n",
              "            "
            ],
            "text/plain": [
              "<IPython.core.display.HTML object>"
            ]
          },
          "metadata": {
            "tags": []
          }
        },
        {
          "output_type": "execute_result",
          "data": {
            "text/plain": [
              "W&B Run: https://app.wandb.ai/msaidov/text-augmentation/runs/9wykvvf8"
            ]
          },
          "metadata": {
            "tags": []
          },
          "execution_count": 5
        }
      ]
    },
    {
      "cell_type": "code",
      "metadata": {
        "id": "whVaneAidB1Y",
        "colab_type": "code",
        "colab": {}
      },
      "source": [
        "df = pd.read_json(\"drive/My Drive/text-augmentation/snli_1.0_train.jsonl\", lines=True)"
      ],
      "execution_count": 0,
      "outputs": []
    },
    {
      "cell_type": "code",
      "metadata": {
        "id": "XrrBcQtshEeE",
        "colab_type": "code",
        "colab": {}
      },
      "source": [
        "is_cuda = torch.cuda.is_available()\n",
        "if is_cuda:\n",
        "    device = torch.device(\"cuda\")\n",
        "else:\n",
        "    device = torch.device(\"cpu\")"
      ],
      "execution_count": 0,
      "outputs": []
    },
    {
      "cell_type": "code",
      "metadata": {
        "id": "usPep20Ir2lr",
        "colab_type": "code",
        "colab": {
          "base_uri": "https://localhost:8080/",
          "height": 54
        },
        "outputId": "b6d9b0b8-8b81-492e-c4e5-8a499d318351"
      },
      "source": [
        "# Drop objects with '-' label\n",
        "print(df.shape, df[df[\"gold_label\"] == \"-\"].shape)\n",
        "df = df[df[\"gold_label\"] != \"-\"]\n",
        "print(df.shape)"
      ],
      "execution_count": 8,
      "outputs": [
        {
          "output_type": "stream",
          "text": [
            "(550152, 10) (785, 10)\n",
            "(549367, 10)\n"
          ],
          "name": "stdout"
        }
      ]
    },
    {
      "cell_type": "code",
      "metadata": {
        "id": "1dREHTeTdB1r",
        "colab_type": "code",
        "colab": {}
      },
      "source": [
        "X = pd.DataFrame(data=np.array([df[\"sentence1\"].values, df[\"sentence2\"].values]).transpose(), columns=[\"sen1\", \"sen2\"])\n",
        "y = df[\"gold_label\"]"
      ],
      "execution_count": 0,
      "outputs": []
    },
    {
      "cell_type": "code",
      "metadata": {
        "id": "xSHkro9P5YNG",
        "colab_type": "code",
        "colab": {
          "base_uri": "https://localhost:8080/",
          "height": 108
        },
        "outputId": "229b1a60-c7b8-4804-8790-ac9ab74ed93d"
      },
      "source": [
        "nltk.download('stopwords')\n",
        "nltk.download('wordnet')"
      ],
      "execution_count": 10,
      "outputs": [
        {
          "output_type": "stream",
          "text": [
            "[nltk_data] Downloading package stopwords to /root/nltk_data...\n",
            "[nltk_data]   Unzipping corpora/stopwords.zip.\n",
            "[nltk_data] Downloading package wordnet to /root/nltk_data...\n",
            "[nltk_data]   Unzipping corpora/wordnet.zip.\n"
          ],
          "name": "stdout"
        },
        {
          "output_type": "execute_result",
          "data": {
            "text/plain": [
              "True"
            ]
          },
          "metadata": {
            "tags": []
          },
          "execution_count": 10
        }
      ]
    },
    {
      "cell_type": "markdown",
      "metadata": {
        "id": "okfKP-sDaUa7",
        "colab_type": "text"
      },
      "source": [
        "If you have file X_sen.csv, then skip to read_csv section.\n",
        "\n"
      ]
    },
    {
      "cell_type": "code",
      "metadata": {
        "id": "UMpcRBgGdB10",
        "colab_type": "code",
        "colab": {}
      },
      "source": [
        "def delete_them(w):\n",
        "    if w in stopwords.words(\"english\"):\n",
        "        return \"\"\n",
        "    return w\n",
        "\n",
        "def stopwords_normalization(row):\n",
        "    words = np.array(re.sub(\"[^\\w]\", \" \",  row).split())\n",
        "    sw_words = np.vectorize(delete_them)(words)\n",
        "    return pd.Series(' '.join(sw_words))"
      ],
      "execution_count": 0,
      "outputs": []
    },
    {
      "cell_type": "code",
      "metadata": {
        "id": "UHTaGrMjdB19",
        "colab_type": "code",
        "colab": {}
      },
      "source": [
        "X[\"sen1\"] = X[\"sen1\"].apply(stopwords_normalization)\n",
        "X[\"sen2\"] = X[\"sen2\"].apply(stopwords_normalization)"
      ],
      "execution_count": 0,
      "outputs": []
    },
    {
      "cell_type": "code",
      "metadata": {
        "id": "GBGzFkrDSRPE",
        "colab_type": "code",
        "colab": {}
      },
      "source": [
        "X[[\"sen1\", \"sen2\"]].to_csv(\"drive/My Drive/text-augmentation/X_sen.csv\", index=False)"
      ],
      "execution_count": 0,
      "outputs": []
    },
    {
      "cell_type": "code",
      "metadata": {
        "id": "9v-ZAvhqdB2X",
        "colab_type": "code",
        "colab": {}
      },
      "source": [
        "lemmatizer = WordNetLemmatizer()\n",
        "\n",
        "def apply_lemmatization(row):\n",
        "    words = np.array(re.sub(\"[^\\w]\", \" \",  row.lower()).split())\n",
        "    if words.shape[0] == 0:\n",
        "        return pd.Series(['empty'])\n",
        "    lemma_words = np.vectorize(lemmatizer.lemmatize)(words)\n",
        "    return pd.Series(' '.join(lemma_words))\n",
        "\n",
        "lemma_X = X.copy(deep=True)\n",
        "\n",
        "start_sen1 = time.time()\n",
        "lemma_X[\"sen1\"] = X[\"sen1\"].apply(apply_lemmatization)\n",
        "end_sen1 = time.time()\n",
        "print(\"sen1 column has been created in\", end_sen1 - start_sen1, \"seconds.\")\n",
        "start_sen2 = time.time()\n",
        "lemma_X[\"sen2\"] = X[\"sen2\"].apply(apply_lemmatization)\n",
        "end_sen2 = time.time()\n",
        "print(\"sen2 column has been created in\", end_sen2 - start_sen2, \"seconds.\")"
      ],
      "execution_count": 0,
      "outputs": []
    },
    {
      "cell_type": "code",
      "metadata": {
        "id": "b1Hud0Y5dB2e",
        "colab_type": "code",
        "colab": {}
      },
      "source": [
        "english_stemmer = nltk.stem.snowball.EnglishStemmer()\n",
        "\n",
        "def apply_stemming(row):\n",
        "    words = row.split(' ')\n",
        "    stem_words = np.vectorize(english_stemmer.stem)(words)\n",
        "    return stem_words\n",
        "\n",
        "final_X = X.copy(deep=True)\n",
        "start_sen1 = time.time()\n",
        "final_X[\"sen1\"] = lemma_X[\"sen1\"].apply(apply_stemming)\n",
        "end_sen1 = time.time()\n",
        "print(\"sen1 column has been created in\", end_sen1 - start_sen1, \"seconds.\")\n",
        "start_sen2 = time.time()\n",
        "final_X[\"sen2\"] = lemma_X[\"sen2\"].apply(apply_stemming)\n",
        "end_sen2 = time.time()\n",
        "print(\"sen2 column has been created in\", end_sen2 - start_sen2, \"seconds.\")"
      ],
      "execution_count": 0,
      "outputs": []
    },
    {
      "cell_type": "code",
      "metadata": {
        "id": "OFwOlPKKY4g5",
        "colab_type": "code",
        "colab": {}
      },
      "source": [
        "final_X[[\"sen1\", \"sen2\"]].to_csv(\"drive/My Drive/text-augmentation/X_sen.csv\", index=False)\n",
        "X = final_X"
      ],
      "execution_count": 0,
      "outputs": []
    },
    {
      "cell_type": "code",
      "metadata": {
        "id": "759dYyfaakxd",
        "colab_type": "code",
        "colab": {}
      },
      "source": [
        "# If you have X_sen.csv, code begins here.\n",
        "X[[\"sen1\", \"sen2\"]] = pd.read_csv(\"drive/My Drive/text-augmentation/X_sen.csv\", index_col=False)"
      ],
      "execution_count": 0,
      "outputs": []
    },
    {
      "cell_type": "code",
      "metadata": {
        "id": "V67NUJG5dB2u",
        "colab_type": "code",
        "colab": {}
      },
      "source": [
        "class Vocab:\n",
        "    def __init__(self, min_freq=3):\n",
        "        self.token_unknown = 'unk'\n",
        "        self.padding = 'pad'\n",
        "        self.w2i = {'unk' : 1, 'pad': 0}\n",
        "        self.i2w = ['pad', 'unk']\n",
        "        self.min_freq = min_freq\n",
        "\n",
        "    def fit(self, sent_list):\n",
        "        c = Counter()\n",
        "        for sent in sent_list:\n",
        "            c.update(str(sent))\n",
        "        \n",
        "        cnt = 2\n",
        "        for key, val in c.items():\n",
        "            if val >= self.min_freq:\n",
        "                self.w2i[key] = cnt\n",
        "                self.i2w.append(key)\n",
        "                cnt += 1\n",
        "        \n",
        "    def transform(self, sen_list):\n",
        "        res = []\n",
        "        for sen in sen_list:\n",
        "            res.append([])\n",
        "            sen = str(sen)\n",
        "            for w in sen:\n",
        "                if not w in self.w2i:\n",
        "                    res[-1].append(self.w2i[self.token_unknown])\n",
        "                else:\n",
        "                    res[-1].append(self.w2i[w])\n",
        "        return res"
      ],
      "execution_count": 0,
      "outputs": []
    },
    {
      "cell_type": "code",
      "metadata": {
        "id": "NPEl_xlbIQba",
        "colab_type": "code",
        "colab": {}
      },
      "source": [
        "X_train, X_val, y_train, y_val = train_test_split(X, y, test_size=.30, random_state=1206)"
      ],
      "execution_count": 0,
      "outputs": []
    },
    {
      "cell_type": "code",
      "metadata": {
        "id": "J3asRop6e7Jv",
        "colab_type": "code",
        "colab": {}
      },
      "source": [
        "voc = Vocab(10)\n",
        "voc.fit(np.hstack((X_train['sen1'].values, X_train['sen2'].values)))"
      ],
      "execution_count": 0,
      "outputs": []
    },
    {
      "cell_type": "code",
      "metadata": {
        "id": "_gZlsyuihbEC",
        "colab_type": "code",
        "colab": {}
      },
      "source": [
        "token1 = voc.transform(X_train['sen1'])\n",
        "token2 = voc.transform(X_train['sen2'])"
      ],
      "execution_count": 0,
      "outputs": []
    },
    {
      "cell_type": "code",
      "metadata": {
        "id": "0phDuqrGhzGb",
        "colab_type": "code",
        "outputId": "cec426d7-3b2e-49eb-8173-03c1d6edc673",
        "colab": {
          "base_uri": "https://localhost:8080/",
          "height": 281
        }
      },
      "source": [
        "y_check = np.vectorize(lambda l: len(l))(np.array(token1))\n",
        "\n",
        "plt.title(\"An histogram of token length distribution\")\n",
        "plt.hist(y_check)\n",
        "plt.show()"
      ],
      "execution_count": 19,
      "outputs": [
        {
          "output_type": "display_data",
          "data": {
            "image/png": "[encoded data removed]",
            "text/plain": [
              "<Figure size 432x288 with 1 Axes>"
            ]
          },
          "metadata": {
            "tags": []
          }
        }
      ]
    },
    {
      "cell_type": "code",
      "metadata": {
        "id": "WTsJQXfwiO48",
        "colab_type": "code",
        "outputId": "9d6d690e-59f0-4c53-ca4d-937acfedce74",
        "colab": {
          "base_uri": "https://localhost:8080/",
          "height": 199
        }
      },
      "source": [
        "start_m_one = time.time()\n",
        "mx = max(y_check)\n",
        "for tk in token1:\n",
        "    zs = np.zeros(mx - len(tk))\n",
        "    tk.extend(zs)\n",
        "end_m_one = time.time()\n",
        "print(f\"It took {end_m_one - start_m_one} seconds to build matrix 1.\")\n",
        "\n",
        "start_m_two = time.time()\n",
        "y_check_2 = np.vectorize(lambda l: len(l))(np.array(token2))\n",
        "mx = max(y_check_2)\n",
        "for tk in token2:\n",
        "    zs = np.zeros(mx - len(tk))\n",
        "    tk.extend(zs)\n",
        "end_m_two = time.time()\n",
        "print(f\"It took {end_m_two - start_m_two} seconds to build matrix 2.\")\n",
        "\n",
        "matrix1 = np.array(token1)\n",
        "matrix2 = np.array(token2)\n",
        "\n",
        "print(\"Final token matrix has the following representation:\")\n",
        "print(matrix1)"
      ],
      "execution_count": 21,
      "outputs": [
        {
          "output_type": "stream",
          "text": [
            "It took 5.37647008895874 seconds to build matrix 1.\n",
            "It took 4.288261651992798 seconds to build matrix 2.\n",
            "Final token matrix has the following representation:\n",
            "[[ 2.  3.  4. ...  0.  0.  0.]\n",
            " [16. 11.  7. ...  0.  0.  0.]\n",
            " [ 2.  3.  4. ...  0.  0.  0.]\n",
            " ...\n",
            " [ 2.  2. 19. ...  0.  0.  0.]\n",
            " [16. 11.  7. ...  0.  0.  0.]\n",
            " [16. 11.  7. ...  0.  0.  0.]]\n"
          ],
          "name": "stdout"
        }
      ]
    },
    {
      "cell_type": "code",
      "metadata": {
        "id": "9nCoqspDjBmI",
        "colab_type": "code",
        "colab": {}
      },
      "source": [
        "y_train = LabelEncoder().fit_transform(y_train)"
      ],
      "execution_count": 0,
      "outputs": []
    },
    {
      "cell_type": "code",
      "metadata": {
        "id": "8rh80goPj4AQ",
        "colab_type": "code",
        "colab": {}
      },
      "source": [
        "class MyDataset(Dataset):\n",
        "    def __init__(self, sen_list1, sen_list2, y):\n",
        "        self.sen_list1 = torch.tensor(sen_list1).long()\n",
        "        self.sen_list2 = torch.tensor(sen_list2).long()\n",
        "        self.y = torch.tensor(y).long()\n",
        "    \n",
        "    def __len__(self):\n",
        "        return self.y.shape[0]\n",
        "    \n",
        "    def __getitem__(self, i):\n",
        "        return (self.sen_list1[i], self.sen_list2[i], self.y[i])"
      ],
      "execution_count": 0,
      "outputs": []
    },
    {
      "cell_type": "code",
      "metadata": {
        "id": "qUCZjXqKHdOe",
        "colab_type": "code",
        "colab": {}
      },
      "source": [
        "dataset = MyDataset(matrix1, matrix2, y_train)\n",
        "\n",
        "loader = DataLoader(dataset, batch_size=10, shuffle=True)\n",
        "\n",
        "criterion = nn.CrossEntropyLoss()"
      ],
      "execution_count": 0,
      "outputs": []
    },
    {
      "cell_type": "code",
      "metadata": {
        "id": "8VezJkWbk7JD",
        "colab_type": "code",
        "colab": {}
      },
      "source": [
        "class Model(nn.Module):\n",
        "    def __init__(self):\n",
        "        super(Model, self).__init__()\n",
        "        self.embeddings = nn.Embedding(len(voc.i2w), 100)\n",
        "        self.rnn = nn.GRU(100, 128, batch_first=True)\n",
        "        self.linear = nn.Linear(128 * 2, 3)\n",
        "    \n",
        "    def forward(self, x1, x2):\n",
        "        e1 = self.embeddings(x1)\n",
        "        e2 = self.embeddings(x2)\n",
        "        _, res1 = self.rnn(e1)\n",
        "        _, res2 = self.rnn(e2)\n",
        "        res = torch.cat([res1, res2], dim=2)\n",
        "        res = res.squeeze(0)\n",
        "        ans = self.linear(res)\n",
        "        return ans"
      ],
      "execution_count": 0,
      "outputs": []
    },
    {
      "cell_type": "code",
      "metadata": {
        "id": "vgmayXVQHgV8",
        "colab_type": "code",
        "colab": {}
      },
      "source": [
        "model = Model()\n",
        "optimizer = torch.optim.Adam(model.parameters())"
      ],
      "execution_count": 0,
      "outputs": []
    },
    {
      "cell_type": "code",
      "metadata": {
        "id": "zqtt1vHnhQ5D",
        "colab_type": "code",
        "colab": {}
      },
      "source": [
        "model = model.cuda()\n",
        "criterion = criterion.cuda()"
      ],
      "execution_count": 0,
      "outputs": []
    },
    {
      "cell_type": "code",
      "metadata": {
        "id": "uE1OQBVFeJK1",
        "colab_type": "code",
        "outputId": "5d1770bd-7dc5-4c99-df57-0c27f128a2f0",
        "colab": {
          "base_uri": "https://localhost:8080/",
          "height": 90
        }
      },
      "source": [
        "n_epochs = 2\n",
        "log_interval = 50\n",
        "n_correct, n_total, n_loss = 0, 0, 0\n",
        "for epoch in range(1, n_epochs + 1):\n",
        "    print(\"Epoch number:\", epoch)\n",
        "    batch_idx = 0\n",
        "    for x1_batch, x2_batch, y_batch in loader:\n",
        "        batch_idx += 1\n",
        "        x1_batch = x1_batch.cuda()\n",
        "        x2_batch = x2_batch.cuda()\n",
        "        y_batch = y_batch.cuda()\n",
        "        optimizer.zero_grad()\n",
        "        logit = model(x1_batch, x2_batch)\n",
        "        loss = criterion(logit, y_batch)\n",
        "        loss.backward()\n",
        "        optimizer.step()\n",
        "        n_total += y_batch.shape[0]\n",
        "        n_correct += (torch.max(logit, 1)[1].view(y_batch.shape[0]) == y_batch).sum().item()\n",
        "        n_loss += loss.item()\n",
        "        \n",
        "        if batch_idx % log_interval == 0:\n",
        "            val_loss = n_loss / n_total\n",
        "            val_acc = 100. * n_correct / n_total\n",
        "            wandb.log({\"Train Accuracy\": val_acc, \"Train Loss\": val_loss})\n",
        "\n",
        "val_loss = n_loss / n_total\n",
        "val_acc = 100. * n_correct / n_total\n",
        "print(\"Current train accuracy:\", val_acc)\n",
        "print(\"Current train loss:\", val_loss)"
      ],
      "execution_count": 43,
      "outputs": [
        {
          "output_type": "stream",
          "text": [
            "Epoch number: 1\n",
            "Epoch number: 2\n",
            "Current train accuracy: 33.24743340371754\n",
            "Current train loss: 0.11043667323279531\n"
          ],
          "name": "stdout"
        }
      ]
    },
    {
      "cell_type": "code",
      "metadata": {
        "id": "x3IFLw5459lh",
        "colab_type": "code",
        "colab": {}
      },
      "source": [
        ""
      ],
      "execution_count": 0,
      "outputs": []
    }
  ]
}
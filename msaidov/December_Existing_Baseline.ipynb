{
  "nbformat": 4,
  "nbformat_minor": 0,
  "metadata": {
    "kernelspec": {
      "name": "python3",
      "display_name": "Python 3"
    },
    "language_info": {
      "pygments_lexer": "ipython3",
      "nbconvert_exporter": "python",
      "version": "3.6.4",
      "file_extension": ".py",
      "codemirror_mode": {
        "name": "ipython",
        "version": 3
      },
      "name": "python",
      "mimetype": "text/x-python"
    },
    "colab": {
      "name": "December_Existing_Baseline.ipynb",
      "provenance": [],
      "collapsed_sections": []
    },
    "accelerator": "GPU"
  },
  "cells": [
    {
      "cell_type": "code",
      "metadata": {
        "trusted": true,
        "id": "RmVGmUFDOVj3",
        "colab_type": "code",
        "colab": {}
      },
      "source": [
        "#%env CUDA_LAUNCH_BLOCKING=1"
      ],
      "execution_count": 0,
      "outputs": []
    },
    {
      "cell_type": "code",
      "metadata": {
        "trusted": true,
        "id": "ecFAuqAUOVkK",
        "colab_type": "code",
        "colab": {}
      },
      "source": [
        "# model description\n",
        "\n",
        "import torch\n",
        "import torch.nn as nn\n",
        "import pdb\n",
        "\n",
        "__all__ = ['bilstm']\n",
        "\n",
        "class BiLSTM(nn.Module):\n",
        "\tdef __init__(self, options):\n",
        "\t\tsuper(BiLSTM, self).__init__()\n",
        "\t\tself.embedding = nn.Embedding(options['vocab_size'], options['embed_dim'])\n",
        "\t\tself.projection = nn.Linear(options['embed_dim'], 300)\n",
        "\t\tself.dropout = nn.Dropout(p = options['dp_ratio'])\n",
        "\t\tself.lstm = nn.LSTM(300, options['d_hidden'], 3)\n",
        "\t\tself.relu = nn.ReLU()\n",
        "\t\tself.out = nn.Sequential(\n",
        "\t\t\tnn.Linear(1024, 1024),\n",
        "\t\t\tself.relu,\n",
        "\t\t\tself.dropout,\n",
        "\t\t\tnn.Linear(1024, 1024),\n",
        "\t\t\tself.relu,\n",
        "\t\t\tself.dropout,\n",
        "\t\t\tnn.Linear(1024, 1024),\n",
        "\t\t\tself.relu,\n",
        "\t\t\tself.dropout,\n",
        "\t\t\tnn.Linear(1024, options['out_dim']) # Выходная размерность получает\n",
        "\t\t)\n",
        "\t\tpass\n",
        "\n",
        "\tdef forward(self, batch):\n",
        "\t\tpremise_embed = self.embedding(batch.premise)\n",
        "\t\thypothesis_embed = self.embedding(batch.hypothesis)\n",
        "\t\tpremise_proj = self.relu(self.projection(premise_embed))\n",
        "\t\thypothesis_proj = self.relu(self.projection(hypothesis_embed))\n",
        "\t\tencoded_premise, _ = self.lstm(premise_proj)\n",
        "\t\tencoded_hypothesis, _ = self.lstm(hypothesis_proj)\n",
        "\t\tpremise = encoded_premise.sum(dim = 1)\n",
        "\t\thypothesis = encoded_hypothesis.sum(dim = 1)\n",
        "\t\tcombined = torch.cat((premise, hypothesis), 1)\n",
        "\t\treturn self.out(combined)\n",
        "\n",
        "def bilstm(options):\n",
        "\treturn BiLSTM(options)"
      ],
      "execution_count": 0,
      "outputs": []
    },
    {
      "cell_type": "code",
      "metadata": {
        "trusted": true,
        "id": "X0MVhn_SOVkT",
        "colab_type": "code",
        "colab": {}
      },
      "source": [
        "import sys\n",
        "from torchtext import data\n",
        "from torchtext import datasets\n",
        "\n",
        "import dill\n",
        "import pdb\n",
        "\n",
        "__all__ = ['snli']\n",
        "\n",
        "class SNLI():\n",
        "\tdef __init__(self, options):\n",
        "\t\tself.inputs = data.Field(lower=True, tokenize='spacy', batch_first = True)\n",
        "\t\tself.answers = data.Field(sequential=False, unk_token = None, is_target = True)\n",
        "\t\tself.train, self.dev, self.test = datasets.SNLI.splits(self.inputs, self.answers)\n",
        "\t\tself.inputs.build_vocab(self.train, self.dev)\n",
        "\t\tself.answers.build_vocab(self.train)\n",
        "\t\tself.train_iter, self.dev_iter, self.test_iter = data.Iterator.splits((self.train, self.dev, self.test), \n",
        "\t\t\t\t\t\t\t\t\t\t\t\t\t\t\t\t\t\t\t\t\t\t\t\t\t\t\t\t\tbatch_size=options['batch_size'], device=options['device'])\n",
        "\n",
        "\tdef vocab_size(self):\n",
        "\t\treturn len(self.inputs.vocab)\n",
        "\n",
        "\tdef out_dim(self):\n",
        "\t\treturn len(self.answers.vocab)\n",
        "\n",
        "\tdef labels(self):\n",
        "\t\treturn self.answers.vocab.stoi\n",
        "\n",
        "def snli(options):\n",
        "\treturn SNLI(options)"
      ],
      "execution_count": 0,
      "outputs": []
    },
    {
      "cell_type": "code",
      "metadata": {
        "trusted": true,
        "id": "aRqnILqgOVkb",
        "colab_type": "code",
        "colab": {}
      },
      "source": [
        "# utils file implementation\n",
        "\n",
        "import torch\n",
        "from argparse import ArgumentParser\n",
        "\n",
        "def training_params():\n",
        "\tparser = ArgumentParser(description='PyTorch/torchtext NLI Tasks - Training')\n",
        "\tparser.add_argument('--dataset', type=str, default='snli')\n",
        "\tparser.add_argument('--model', type=str, default='bilstm')\n",
        "\tparser.add_argument('--gpu', type=int, default=0)\n",
        "\tparser.add_argument('--batch_size', type=int, default=128)\n",
        "\tparser.add_argument('--embed_dim', type=int, default=300)\n",
        "\tparser.add_argument('--d_hidden', type=int, default=512)\n",
        "\tparser.add_argument('--dp_ratio', type=int, default=0.2)\n",
        "\tparser.add_argument('--epochs', type=int, default=50)\n",
        "\tparser.add_argument('--lr', type=float, default=.001)\n",
        "\tparser.add_argument('--combine', type=str, default='cat')\n",
        "\tparser.add_argument('--save_model', action='store_false', default=True)\n",
        "\targs = parser.parse_args()\n",
        "\treturn args\n",
        "\n",
        "def evaluate_params():\n",
        "\tparser = ArgumentParser(description='PyTorch/torchtext NLI Tasks - Evaluation')\n",
        "\tparser.add_argument('--dataset', type=str, default='snli')\n",
        "\tparser.add_argument('--model', type=str, default='bilstm')\n",
        "\tparser.add_argument('--gpu', type=int, default=0)\n",
        "\tparser.add_argument('--batch_size', type=int, default=128)\n",
        "\tparser.add_argument('--save_path', type=str, default = \"save/bilstm-snli-model.pt\")\n",
        "\targs = parser.parse_args()\n",
        "\treturn args\n",
        "\n",
        "def get_args(mode):\n",
        "\tif mode == \"train\":\n",
        "\t\treturn training_params()\n",
        "\telif mode == \"evaluate\":\n",
        "\t\treturn evaluate_params()\n",
        "\n",
        "def get_device(gpu_no):\n",
        "\tif torch.cuda.is_available():\n",
        "\t\ttorch.cuda.set_device(gpu_no)\n",
        "\t\treturn torch.device('cuda:{}'.format(gpu_no))\n",
        "\telse:\n",
        "\t\treturn torch.device('cpu')"
      ],
      "execution_count": 0,
      "outputs": []
    },
    {
      "cell_type": "code",
      "metadata": {
        "trusted": true,
        "id": "1xdSy1IbOVkk",
        "colab_type": "code",
        "outputId": "152c3fab-f841-4c12-b3f8-dea6d13e8c67",
        "colab": {
          "base_uri": "https://localhost:8080/",
          "height": 469
        }
      },
      "source": [
        "import os\n",
        "import sys\n",
        "# trying to import necessary data\n",
        "\n",
        "import torch\n",
        "import torch.optim as O\n",
        "import torch.nn as nn\n",
        "\n",
        "\n",
        "import datetime\n",
        "import pdb\n",
        "import torch.nn.functional as F\n",
        "from tqdm import tqdm\n",
        "\n",
        "from prettytable import PrettyTable\n",
        "\n",
        "import time\n",
        "\n",
        "class Train():\n",
        "    def __init__(self):\n",
        "        print(\"program execution start: {}\".format(datetime.datetime.now()))\n",
        "        self.args = get_args(\"train\")\n",
        "        self.device = get_device(self.args.gpu) # args.gpu -- это номер используемого gpu\n",
        "        self.dataset_options = {\n",
        "                                'batch_size': self.args.batch_size, # по умолчанию равен 128\n",
        "                                'device': self.device\n",
        "                               }\n",
        "        self.dataset = snli(self.dataset_options)\n",
        "\n",
        "        self.model_options = { # Возьмем гиперпараметры, предложенные автором\n",
        "                                    'vocab_size': 128, #self.dataset.vocab_size(), \n",
        "                                    'embed_dim': 300, #self.args.embed_dim,\n",
        "                                    'out_dim': self.dataset.out_dim(),\n",
        "                                    'dp_ratio': 0.2, #self.args.dp_ratio,\n",
        "                                    'd_hidden': 512, #self.args.d_hidden\n",
        "                                }\n",
        "        self.model = bilstm(self.model_options) \n",
        "        self.model.to(self.device)\n",
        "        self.criterion = nn.CrossEntropyLoss(reduction = 'sum')\n",
        "        self.opt = O.Adam(self.model.parameters(), lr = self.args.lr)\n",
        "        self.best_accuracy = -1\n",
        "        print(\"resource preparation done: {}\".format(datetime.datetime.now()))\n",
        "\n",
        "    def save_model(self, current_accuracy):\n",
        "        if current_accuracy > self.best_accuracy:\n",
        "            self.best_accuracy = current_accuracy\n",
        "            torch.save({\n",
        "                'accuracy': self.best_accuracy,\n",
        "                'options': self.model_options,\n",
        "                'model_dict': self.model.state_dict(),\n",
        "            }, 'save/' + \"{}-{}-model.pt\".format(self.args.model, self.args.dataset))\n",
        "        pass\n",
        "\n",
        "    def train(self):\n",
        "        self.model.train(); self.dataset.train_iter.init_epoch()\n",
        "        n_correct, n_total, n_loss = 0, 0, 0\n",
        "        for batch_idx, batch in enumerate(self.dataset.train_iter):\n",
        "            print(\"Номер батча:\", batch_idx, \"Всего батчей:\", len(self.dataset.train_iter))\n",
        "            self.opt.zero_grad()\n",
        "            answer = self.model(batch)\n",
        "            loss = self.criterion(answer, batch.label)\n",
        "\n",
        "            n_correct += (torch.max(answer, 1)[1].view(batch.label.size()) == batch.label).sum().item()\n",
        "            n_total += batch.batch_size\n",
        "            n_loss += loss.item()\n",
        "\n",
        "            loss.backward(); self.opt.step()\n",
        "        train_loss = n_loss / n_total\n",
        "        train_acc = 100. * n_correct / n_total\n",
        "        return train_loss, train_acc\n",
        "\n",
        "    def validate(self):\n",
        "        self.model.eval(); self.dataset.dev_iter.init_epoch()\n",
        "        n_correct, n_total, n_loss = 0, 0, 0\n",
        "        with torch.no_grad():\n",
        "            for batch_idx, batch in enumerate(self.dataset.dev_iter):\n",
        "                answer = self.model(batch)\n",
        "                loss = self.criterion(answer, batch.label)\n",
        "\n",
        "                n_correct += (torch.max(answer, 1)[1].view(batch.label.size()) == batch.label).sum().item()\n",
        "                n_total += batch.batch_size\n",
        "                n_loss += loss.item()\n",
        "\n",
        "            val_loss = n_loss / n_total\n",
        "            val_acc = 100. * n_correct / n_total\n",
        "            return val_loss, val_acc\n",
        "\n",
        "    def execute(self):\n",
        "        for epoch in range(self.args.epochs):\n",
        "            start = time.time()\n",
        "            train_loss, train_acc = self.train()\n",
        "            val_loss, val_acc = self.validate()\n",
        "            if self.args.save_model:\n",
        "                self.save_model(val_acc)\n",
        "            print(\"time taken: {}   epoch: {}   Training loss: {}   Training Accuracy: {}   Validation loss: {}   Validation Accuracy: {}\".format(\n",
        "                round(time.time()-start, 2), epoch, round(train_loss, 3), round(train_acc, 3), round(val_loss, 3), round(val_acc, 3)\n",
        "            ))\n",
        "\n",
        "sys.argv[1] = \"--dataset=snli\"\n",
        "sys.argv[2] = \"--model=bilstm\"\n",
        "# sys.argv[3] = \"--save_path=\"\n",
        "\n",
        "task = Train()\n",
        "task.execute()"
      ],
      "execution_count": 0,
      "outputs": [
        {
          "output_type": "stream",
          "text": [
            "program execution start: 2020-01-05 10:23:43.465818\n",
            "downloading snli_1.0.zip\n"
          ],
          "name": "stdout"
        },
        {
          "output_type": "stream",
          "text": [
            "snli_1.0.zip: 100%|██████████| 94.6M/94.6M [00:10<00:00, 8.77MB/s]\n"
          ],
          "name": "stderr"
        },
        {
          "output_type": "stream",
          "text": [
            "extracting\n",
            "resource preparation done: 2020-01-05 10:29:10.738710\n",
            "Номер батча: 0 Всего батчей: 4292\n"
          ],
          "name": "stdout"
        },
        {
          "output_type": "error",
          "ename": "RuntimeError",
          "evalue": "ignored",
          "traceback": [
            "\u001b[0;31m---------------------------------------------------------------------------\u001b[0m",
            "\u001b[0;31mRuntimeError\u001b[0m                              Traceback (most recent call last)",
            "\u001b[0;32m<ipython-input-5-48246f0befb0>\u001b[0m in \u001b[0;36m<module>\u001b[0;34m()\u001b[0m\n\u001b[1;32m    102\u001b[0m \u001b[0;34m\u001b[0m\u001b[0m\n\u001b[1;32m    103\u001b[0m \u001b[0mtask\u001b[0m \u001b[0;34m=\u001b[0m \u001b[0mTrain\u001b[0m\u001b[0;34m(\u001b[0m\u001b[0;34m)\u001b[0m\u001b[0;34m\u001b[0m\u001b[0;34m\u001b[0m\u001b[0m\n\u001b[0;32m--> 104\u001b[0;31m \u001b[0mtask\u001b[0m\u001b[0;34m.\u001b[0m\u001b[0mexecute\u001b[0m\u001b[0;34m(\u001b[0m\u001b[0;34m)\u001b[0m\u001b[0;34m\u001b[0m\u001b[0;34m\u001b[0m\u001b[0m\n\u001b[0m",
            "\u001b[0;32m<ipython-input-5-48246f0befb0>\u001b[0m in \u001b[0;36mexecute\u001b[0;34m(self)\u001b[0m\n\u001b[1;32m     89\u001b[0m         \u001b[0;32mfor\u001b[0m \u001b[0mepoch\u001b[0m \u001b[0;32min\u001b[0m \u001b[0mrange\u001b[0m\u001b[0;34m(\u001b[0m\u001b[0mself\u001b[0m\u001b[0;34m.\u001b[0m\u001b[0margs\u001b[0m\u001b[0;34m.\u001b[0m\u001b[0mepochs\u001b[0m\u001b[0;34m)\u001b[0m\u001b[0;34m:\u001b[0m\u001b[0;34m\u001b[0m\u001b[0;34m\u001b[0m\u001b[0m\n\u001b[1;32m     90\u001b[0m             \u001b[0mstart\u001b[0m \u001b[0;34m=\u001b[0m \u001b[0mtime\u001b[0m\u001b[0;34m.\u001b[0m\u001b[0mtime\u001b[0m\u001b[0;34m(\u001b[0m\u001b[0;34m)\u001b[0m\u001b[0;34m\u001b[0m\u001b[0;34m\u001b[0m\u001b[0m\n\u001b[0;32m---> 91\u001b[0;31m             \u001b[0mtrain_loss\u001b[0m\u001b[0;34m,\u001b[0m \u001b[0mtrain_acc\u001b[0m \u001b[0;34m=\u001b[0m \u001b[0mself\u001b[0m\u001b[0;34m.\u001b[0m\u001b[0mtrain\u001b[0m\u001b[0;34m(\u001b[0m\u001b[0;34m)\u001b[0m\u001b[0;34m\u001b[0m\u001b[0;34m\u001b[0m\u001b[0m\n\u001b[0m\u001b[1;32m     92\u001b[0m             \u001b[0mval_loss\u001b[0m\u001b[0;34m,\u001b[0m \u001b[0mval_acc\u001b[0m \u001b[0;34m=\u001b[0m \u001b[0mself\u001b[0m\u001b[0;34m.\u001b[0m\u001b[0mvalidate\u001b[0m\u001b[0;34m(\u001b[0m\u001b[0;34m)\u001b[0m\u001b[0;34m\u001b[0m\u001b[0;34m\u001b[0m\u001b[0m\n\u001b[1;32m     93\u001b[0m             \u001b[0;32mif\u001b[0m \u001b[0mself\u001b[0m\u001b[0;34m.\u001b[0m\u001b[0margs\u001b[0m\u001b[0;34m.\u001b[0m\u001b[0msave_model\u001b[0m\u001b[0;34m:\u001b[0m\u001b[0;34m\u001b[0m\u001b[0;34m\u001b[0m\u001b[0m\n",
            "\u001b[0;32m<ipython-input-5-48246f0befb0>\u001b[0m in \u001b[0;36mtrain\u001b[0;34m(self)\u001b[0m\n\u001b[1;32m     58\u001b[0m             \u001b[0mprint\u001b[0m\u001b[0;34m(\u001b[0m\u001b[0;34m\"Номер батча:\"\u001b[0m\u001b[0;34m,\u001b[0m \u001b[0mbatch_idx\u001b[0m\u001b[0;34m,\u001b[0m \u001b[0;34m\"Всего батчей:\"\u001b[0m\u001b[0;34m,\u001b[0m \u001b[0mlen\u001b[0m\u001b[0;34m(\u001b[0m\u001b[0mself\u001b[0m\u001b[0;34m.\u001b[0m\u001b[0mdataset\u001b[0m\u001b[0;34m.\u001b[0m\u001b[0mtrain_iter\u001b[0m\u001b[0;34m)\u001b[0m\u001b[0;34m)\u001b[0m\u001b[0;34m\u001b[0m\u001b[0;34m\u001b[0m\u001b[0m\n\u001b[1;32m     59\u001b[0m             \u001b[0mself\u001b[0m\u001b[0;34m.\u001b[0m\u001b[0mopt\u001b[0m\u001b[0;34m.\u001b[0m\u001b[0mzero_grad\u001b[0m\u001b[0;34m(\u001b[0m\u001b[0;34m)\u001b[0m\u001b[0;34m\u001b[0m\u001b[0;34m\u001b[0m\u001b[0m\n\u001b[0;32m---> 60\u001b[0;31m             \u001b[0manswer\u001b[0m \u001b[0;34m=\u001b[0m \u001b[0mself\u001b[0m\u001b[0;34m.\u001b[0m\u001b[0mmodel\u001b[0m\u001b[0;34m(\u001b[0m\u001b[0mbatch\u001b[0m\u001b[0;34m)\u001b[0m\u001b[0;34m\u001b[0m\u001b[0;34m\u001b[0m\u001b[0m\n\u001b[0m\u001b[1;32m     61\u001b[0m             \u001b[0mloss\u001b[0m \u001b[0;34m=\u001b[0m \u001b[0mself\u001b[0m\u001b[0;34m.\u001b[0m\u001b[0mcriterion\u001b[0m\u001b[0;34m(\u001b[0m\u001b[0manswer\u001b[0m\u001b[0;34m,\u001b[0m \u001b[0mbatch\u001b[0m\u001b[0;34m.\u001b[0m\u001b[0mlabel\u001b[0m\u001b[0;34m)\u001b[0m\u001b[0;34m\u001b[0m\u001b[0;34m\u001b[0m\u001b[0m\n\u001b[1;32m     62\u001b[0m \u001b[0;34m\u001b[0m\u001b[0m\n",
            "\u001b[0;32m/usr/local/lib/python3.6/dist-packages/torch/nn/modules/module.py\u001b[0m in \u001b[0;36m__call__\u001b[0;34m(self, *input, **kwargs)\u001b[0m\n\u001b[1;32m    539\u001b[0m             \u001b[0mresult\u001b[0m \u001b[0;34m=\u001b[0m \u001b[0mself\u001b[0m\u001b[0;34m.\u001b[0m\u001b[0m_slow_forward\u001b[0m\u001b[0;34m(\u001b[0m\u001b[0;34m*\u001b[0m\u001b[0minput\u001b[0m\u001b[0;34m,\u001b[0m \u001b[0;34m**\u001b[0m\u001b[0mkwargs\u001b[0m\u001b[0;34m)\u001b[0m\u001b[0;34m\u001b[0m\u001b[0;34m\u001b[0m\u001b[0m\n\u001b[1;32m    540\u001b[0m         \u001b[0;32melse\u001b[0m\u001b[0;34m:\u001b[0m\u001b[0;34m\u001b[0m\u001b[0;34m\u001b[0m\u001b[0m\n\u001b[0;32m--> 541\u001b[0;31m             \u001b[0mresult\u001b[0m \u001b[0;34m=\u001b[0m \u001b[0mself\u001b[0m\u001b[0;34m.\u001b[0m\u001b[0mforward\u001b[0m\u001b[0;34m(\u001b[0m\u001b[0;34m*\u001b[0m\u001b[0minput\u001b[0m\u001b[0;34m,\u001b[0m \u001b[0;34m**\u001b[0m\u001b[0mkwargs\u001b[0m\u001b[0;34m)\u001b[0m\u001b[0;34m\u001b[0m\u001b[0;34m\u001b[0m\u001b[0m\n\u001b[0m\u001b[1;32m    542\u001b[0m         \u001b[0;32mfor\u001b[0m \u001b[0mhook\u001b[0m \u001b[0;32min\u001b[0m \u001b[0mself\u001b[0m\u001b[0;34m.\u001b[0m\u001b[0m_forward_hooks\u001b[0m\u001b[0;34m.\u001b[0m\u001b[0mvalues\u001b[0m\u001b[0;34m(\u001b[0m\u001b[0;34m)\u001b[0m\u001b[0;34m:\u001b[0m\u001b[0;34m\u001b[0m\u001b[0;34m\u001b[0m\u001b[0m\n\u001b[1;32m    543\u001b[0m             \u001b[0mhook_result\u001b[0m \u001b[0;34m=\u001b[0m \u001b[0mhook\u001b[0m\u001b[0;34m(\u001b[0m\u001b[0mself\u001b[0m\u001b[0;34m,\u001b[0m \u001b[0minput\u001b[0m\u001b[0;34m,\u001b[0m \u001b[0mresult\u001b[0m\u001b[0;34m)\u001b[0m\u001b[0;34m\u001b[0m\u001b[0;34m\u001b[0m\u001b[0m\n",
            "\u001b[0;32m<ipython-input-2-c8122877a5e4>\u001b[0m in \u001b[0;36mforward\u001b[0;34m(self, batch)\u001b[0m\n\u001b[1;32m     31\u001b[0m                 \u001b[0mpremise_embed\u001b[0m \u001b[0;34m=\u001b[0m \u001b[0mself\u001b[0m\u001b[0;34m.\u001b[0m\u001b[0membedding\u001b[0m\u001b[0;34m(\u001b[0m\u001b[0mbatch\u001b[0m\u001b[0;34m.\u001b[0m\u001b[0mpremise\u001b[0m\u001b[0;34m)\u001b[0m\u001b[0;34m\u001b[0m\u001b[0;34m\u001b[0m\u001b[0m\n\u001b[1;32m     32\u001b[0m                 \u001b[0mhypothesis_embed\u001b[0m \u001b[0;34m=\u001b[0m \u001b[0mself\u001b[0m\u001b[0;34m.\u001b[0m\u001b[0membedding\u001b[0m\u001b[0;34m(\u001b[0m\u001b[0mbatch\u001b[0m\u001b[0;34m.\u001b[0m\u001b[0mhypothesis\u001b[0m\u001b[0;34m)\u001b[0m\u001b[0;34m\u001b[0m\u001b[0;34m\u001b[0m\u001b[0m\n\u001b[0;32m---> 33\u001b[0;31m                 \u001b[0mpremise_proj\u001b[0m \u001b[0;34m=\u001b[0m \u001b[0mself\u001b[0m\u001b[0;34m.\u001b[0m\u001b[0mrelu\u001b[0m\u001b[0;34m(\u001b[0m\u001b[0mself\u001b[0m\u001b[0;34m.\u001b[0m\u001b[0mprojection\u001b[0m\u001b[0;34m(\u001b[0m\u001b[0mpremise_embed\u001b[0m\u001b[0;34m)\u001b[0m\u001b[0;34m)\u001b[0m\u001b[0;34m\u001b[0m\u001b[0;34m\u001b[0m\u001b[0m\n\u001b[0m\u001b[1;32m     34\u001b[0m                 \u001b[0mhypothesis_proj\u001b[0m \u001b[0;34m=\u001b[0m \u001b[0mself\u001b[0m\u001b[0;34m.\u001b[0m\u001b[0mrelu\u001b[0m\u001b[0;34m(\u001b[0m\u001b[0mself\u001b[0m\u001b[0;34m.\u001b[0m\u001b[0mprojection\u001b[0m\u001b[0;34m(\u001b[0m\u001b[0mhypothesis_embed\u001b[0m\u001b[0;34m)\u001b[0m\u001b[0;34m)\u001b[0m\u001b[0;34m\u001b[0m\u001b[0;34m\u001b[0m\u001b[0m\n\u001b[1;32m     35\u001b[0m                 \u001b[0mencoded_premise\u001b[0m\u001b[0;34m,\u001b[0m \u001b[0m_\u001b[0m \u001b[0;34m=\u001b[0m \u001b[0mself\u001b[0m\u001b[0;34m.\u001b[0m\u001b[0mlstm\u001b[0m\u001b[0;34m(\u001b[0m\u001b[0mpremise_proj\u001b[0m\u001b[0;34m)\u001b[0m\u001b[0;34m\u001b[0m\u001b[0;34m\u001b[0m\u001b[0m\n",
            "\u001b[0;32m/usr/local/lib/python3.6/dist-packages/torch/nn/modules/module.py\u001b[0m in \u001b[0;36m__call__\u001b[0;34m(self, *input, **kwargs)\u001b[0m\n\u001b[1;32m    539\u001b[0m             \u001b[0mresult\u001b[0m \u001b[0;34m=\u001b[0m \u001b[0mself\u001b[0m\u001b[0;34m.\u001b[0m\u001b[0m_slow_forward\u001b[0m\u001b[0;34m(\u001b[0m\u001b[0;34m*\u001b[0m\u001b[0minput\u001b[0m\u001b[0;34m,\u001b[0m \u001b[0;34m**\u001b[0m\u001b[0mkwargs\u001b[0m\u001b[0;34m)\u001b[0m\u001b[0;34m\u001b[0m\u001b[0;34m\u001b[0m\u001b[0m\n\u001b[1;32m    540\u001b[0m         \u001b[0;32melse\u001b[0m\u001b[0;34m:\u001b[0m\u001b[0;34m\u001b[0m\u001b[0;34m\u001b[0m\u001b[0m\n\u001b[0;32m--> 541\u001b[0;31m             \u001b[0mresult\u001b[0m \u001b[0;34m=\u001b[0m \u001b[0mself\u001b[0m\u001b[0;34m.\u001b[0m\u001b[0mforward\u001b[0m\u001b[0;34m(\u001b[0m\u001b[0;34m*\u001b[0m\u001b[0minput\u001b[0m\u001b[0;34m,\u001b[0m \u001b[0;34m**\u001b[0m\u001b[0mkwargs\u001b[0m\u001b[0;34m)\u001b[0m\u001b[0;34m\u001b[0m\u001b[0;34m\u001b[0m\u001b[0m\n\u001b[0m\u001b[1;32m    542\u001b[0m         \u001b[0;32mfor\u001b[0m \u001b[0mhook\u001b[0m \u001b[0;32min\u001b[0m \u001b[0mself\u001b[0m\u001b[0;34m.\u001b[0m\u001b[0m_forward_hooks\u001b[0m\u001b[0;34m.\u001b[0m\u001b[0mvalues\u001b[0m\u001b[0;34m(\u001b[0m\u001b[0;34m)\u001b[0m\u001b[0;34m:\u001b[0m\u001b[0;34m\u001b[0m\u001b[0;34m\u001b[0m\u001b[0m\n\u001b[1;32m    543\u001b[0m             \u001b[0mhook_result\u001b[0m \u001b[0;34m=\u001b[0m \u001b[0mhook\u001b[0m\u001b[0;34m(\u001b[0m\u001b[0mself\u001b[0m\u001b[0;34m,\u001b[0m \u001b[0minput\u001b[0m\u001b[0;34m,\u001b[0m \u001b[0mresult\u001b[0m\u001b[0;34m)\u001b[0m\u001b[0;34m\u001b[0m\u001b[0;34m\u001b[0m\u001b[0m\n",
            "\u001b[0;32m/usr/local/lib/python3.6/dist-packages/torch/nn/modules/linear.py\u001b[0m in \u001b[0;36mforward\u001b[0;34m(self, input)\u001b[0m\n\u001b[1;32m     85\u001b[0m \u001b[0;34m\u001b[0m\u001b[0m\n\u001b[1;32m     86\u001b[0m     \u001b[0;32mdef\u001b[0m \u001b[0mforward\u001b[0m\u001b[0;34m(\u001b[0m\u001b[0mself\u001b[0m\u001b[0;34m,\u001b[0m \u001b[0minput\u001b[0m\u001b[0;34m)\u001b[0m\u001b[0;34m:\u001b[0m\u001b[0;34m\u001b[0m\u001b[0;34m\u001b[0m\u001b[0m\n\u001b[0;32m---> 87\u001b[0;31m         \u001b[0;32mreturn\u001b[0m \u001b[0mF\u001b[0m\u001b[0;34m.\u001b[0m\u001b[0mlinear\u001b[0m\u001b[0;34m(\u001b[0m\u001b[0minput\u001b[0m\u001b[0;34m,\u001b[0m \u001b[0mself\u001b[0m\u001b[0;34m.\u001b[0m\u001b[0mweight\u001b[0m\u001b[0;34m,\u001b[0m \u001b[0mself\u001b[0m\u001b[0;34m.\u001b[0m\u001b[0mbias\u001b[0m\u001b[0;34m)\u001b[0m\u001b[0;34m\u001b[0m\u001b[0;34m\u001b[0m\u001b[0m\n\u001b[0m\u001b[1;32m     88\u001b[0m \u001b[0;34m\u001b[0m\u001b[0m\n\u001b[1;32m     89\u001b[0m     \u001b[0;32mdef\u001b[0m \u001b[0mextra_repr\u001b[0m\u001b[0;34m(\u001b[0m\u001b[0mself\u001b[0m\u001b[0;34m)\u001b[0m\u001b[0;34m:\u001b[0m\u001b[0;34m\u001b[0m\u001b[0;34m\u001b[0m\u001b[0m\n",
            "\u001b[0;32m/usr/local/lib/python3.6/dist-packages/torch/nn/functional.py\u001b[0m in \u001b[0;36mlinear\u001b[0;34m(input, weight, bias)\u001b[0m\n\u001b[1;32m   1370\u001b[0m         \u001b[0mret\u001b[0m \u001b[0;34m=\u001b[0m \u001b[0mtorch\u001b[0m\u001b[0;34m.\u001b[0m\u001b[0maddmm\u001b[0m\u001b[0;34m(\u001b[0m\u001b[0mbias\u001b[0m\u001b[0;34m,\u001b[0m \u001b[0minput\u001b[0m\u001b[0;34m,\u001b[0m \u001b[0mweight\u001b[0m\u001b[0;34m.\u001b[0m\u001b[0mt\u001b[0m\u001b[0;34m(\u001b[0m\u001b[0;34m)\u001b[0m\u001b[0;34m)\u001b[0m\u001b[0;34m\u001b[0m\u001b[0;34m\u001b[0m\u001b[0m\n\u001b[1;32m   1371\u001b[0m     \u001b[0;32melse\u001b[0m\u001b[0;34m:\u001b[0m\u001b[0;34m\u001b[0m\u001b[0;34m\u001b[0m\u001b[0m\n\u001b[0;32m-> 1372\u001b[0;31m         \u001b[0moutput\u001b[0m \u001b[0;34m=\u001b[0m \u001b[0minput\u001b[0m\u001b[0;34m.\u001b[0m\u001b[0mmatmul\u001b[0m\u001b[0;34m(\u001b[0m\u001b[0mweight\u001b[0m\u001b[0;34m.\u001b[0m\u001b[0mt\u001b[0m\u001b[0;34m(\u001b[0m\u001b[0;34m)\u001b[0m\u001b[0;34m)\u001b[0m\u001b[0;34m\u001b[0m\u001b[0;34m\u001b[0m\u001b[0m\n\u001b[0m\u001b[1;32m   1373\u001b[0m         \u001b[0;32mif\u001b[0m \u001b[0mbias\u001b[0m \u001b[0;32mis\u001b[0m \u001b[0;32mnot\u001b[0m \u001b[0;32mNone\u001b[0m\u001b[0;34m:\u001b[0m\u001b[0;34m\u001b[0m\u001b[0;34m\u001b[0m\u001b[0m\n\u001b[1;32m   1374\u001b[0m             \u001b[0moutput\u001b[0m \u001b[0;34m+=\u001b[0m \u001b[0mbias\u001b[0m\u001b[0;34m\u001b[0m\u001b[0;34m\u001b[0m\u001b[0m\n",
            "\u001b[0;31mRuntimeError\u001b[0m: cublas runtime error : resource allocation failed at /pytorch/aten/src/THC/THCGeneral.cpp:216"
          ]
        }
      ]
    },
    {
      "cell_type": "code",
      "metadata": {
        "_uuid": "d629ff2d2480ee46fbb7e2d37f6b5fab8052498a",
        "_cell_guid": "79c7e3d0-c299-4dcb-8224-4455121ee9b0",
        "trusted": true,
        "id": "G8kzyQJCOVky",
        "colab_type": "code",
        "colab": {}
      },
      "source": [
        "!nvidia-smi"
      ],
      "execution_count": 0,
      "outputs": []
    },
    {
      "cell_type": "code",
      "metadata": {
        "trusted": true,
        "id": "TWDtwgtzOVk6",
        "colab_type": "code",
        "colab": {}
      },
      "source": [
        "import os\n",
        "print(os.environ['CUDA_VISIBLE_DEVICES'])"
      ],
      "execution_count": 0,
      "outputs": []
    },
    {
      "cell_type": "code",
      "metadata": {
        "trusted": true,
        "id": "WrYJqiYQOVlE",
        "colab_type": "code",
        "colab": {}
      },
      "source": [
        "import os\n",
        "print(os.environ.has_key('CUDA_VISIBLE_DEVICES'))"
      ],
      "execution_count": 0,
      "outputs": []
    },
    {
      "cell_type": "code",
      "metadata": {
        "trusted": true,
        "id": "0UK-7gBbOVlL",
        "colab_type": "code",
        "colab": {}
      },
      "source": [
        ""
      ],
      "execution_count": 0,
      "outputs": []
    }
  ]
}
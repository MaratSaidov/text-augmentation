{
  "nbformat": 4,
  "nbformat_minor": 0,
  "metadata": {
    "accelerator": "GPU",
    "colab": {
      "name": "unaugmented-snli-translate.ipynb",
      "provenance": [],
      "collapsed_sections": [
        "7BY8GALl97AW"
      ]
    },
    "kernelspec": {
      "display_name": "Python 3",
      "language": "python",
      "name": "python3"
    },
    "language_info": {
      "codemirror_mode": {
        "name": "ipython",
        "version": 3
      },
      "file_extension": ".py",
      "mimetype": "text/x-python",
      "name": "python",
      "nbconvert_exporter": "python",
      "pygments_lexer": "ipython3",
      "version": "3.7.6"
    }
  },
  "cells": [
    {
      "cell_type": "markdown",
      "metadata": {
        "id": "7BY8GALl97AW",
        "colab_type": "text"
      },
      "source": [
        "# Technical cells"
      ]
    },
    {
      "cell_type": "code",
      "metadata": {
        "id": "UB9nLsMH9rt6",
        "colab_type": "code",
        "colab": {
          "base_uri": "https://localhost:8080/",
          "height": 0
        },
        "outputId": "ba4d8904-920e-429d-9ef2-5fc9fc4003f3"
      },
      "source": [
        "from google.colab import drive\n",
        "drive.mount('/content/drive')"
      ],
      "execution_count": 16,
      "outputs": [
        {
          "output_type": "stream",
          "text": [
            "Drive already mounted at /content/drive; to attempt to forcibly remount, call drive.mount(\"/content/drive\", force_remount=True).\n"
          ],
          "name": "stdout"
        }
      ]
    },
    {
      "cell_type": "code",
      "metadata": {
        "id": "bIO8G5F99-Zl",
        "colab_type": "code",
        "outputId": "d724f121-1547-4478-a81c-de3dc2320ee4",
        "colab": {
          "base_uri": "https://localhost:8080/",
          "height": 0
        }
      },
      "source": [
        "!pip install --upgrade torch\n",
        "!pip install --upgrade wandb\n",
        "!pip install --upgrade catalyst\n",
        "!pip install --upgrade torchtext\n",
        "!wandb login c54b2fcb6b8ca2808f5be303a8a3b6e464f52cca"
      ],
      "execution_count": 17,
      "outputs": [
        {
          "output_type": "stream",
          "text": [
            "Requirement already up-to-date: torch in /usr/local/lib/python3.6/dist-packages (1.4.0)\n",
            "Requirement already up-to-date: wandb in /usr/local/lib/python3.6/dist-packages (0.8.32)\n",
            "Requirement already satisfied, skipping upgrade: gql==0.2.0 in /usr/local/lib/python3.6/dist-packages (from wandb) (0.2.0)\n",
            "Requirement already satisfied, skipping upgrade: watchdog>=0.8.3 in /usr/local/lib/python3.6/dist-packages (from wandb) (0.10.2)\n",
            "Requirement already satisfied, skipping upgrade: nvidia-ml-py3>=7.352.0 in /usr/local/lib/python3.6/dist-packages (from wandb) (7.352.0)\n",
            "Requirement already satisfied, skipping upgrade: shortuuid>=0.5.0 in /usr/local/lib/python3.6/dist-packages (from wandb) (1.0.1)\n",
            "Requirement already satisfied, skipping upgrade: sentry-sdk>=0.4.0 in /usr/local/lib/python3.6/dist-packages (from wandb) (0.14.3)\n",
            "Requirement already satisfied, skipping upgrade: configparser>=3.8.1 in /usr/local/lib/python3.6/dist-packages (from wandb) (5.0.0)\n",
            "Requirement already satisfied, skipping upgrade: docker-pycreds>=0.4.0 in /usr/local/lib/python3.6/dist-packages (from wandb) (0.4.0)\n",
            "Requirement already satisfied, skipping upgrade: PyYAML>=3.10 in /usr/local/lib/python3.6/dist-packages (from wandb) (3.13)\n",
            "Requirement already satisfied, skipping upgrade: subprocess32>=3.5.3 in /usr/local/lib/python3.6/dist-packages (from wandb) (3.5.4)\n",
            "Requirement already satisfied, skipping upgrade: Click>=7.0 in /usr/local/lib/python3.6/dist-packages (from wandb) (7.1.1)\n",
            "Requirement already satisfied, skipping upgrade: six>=1.10.0 in /usr/local/lib/python3.6/dist-packages (from wandb) (1.12.0)\n",
            "Requirement already satisfied, skipping upgrade: psutil>=5.0.0 in /usr/local/lib/python3.6/dist-packages (from wandb) (5.4.8)\n",
            "Requirement already satisfied, skipping upgrade: python-dateutil>=2.6.1 in /usr/local/lib/python3.6/dist-packages (from wandb) (2.8.1)\n",
            "Requirement already satisfied, skipping upgrade: requests>=2.0.0 in /usr/local/lib/python3.6/dist-packages (from wandb) (2.21.0)\n",
            "Requirement already satisfied, skipping upgrade: GitPython>=1.0.0 in /usr/local/lib/python3.6/dist-packages (from wandb) (3.1.1)\n",
            "Requirement already satisfied, skipping upgrade: promise<3,>=2.0 in /usr/local/lib/python3.6/dist-packages (from gql==0.2.0->wandb) (2.3)\n",
            "Requirement already satisfied, skipping upgrade: graphql-core<2,>=0.5.0 in /usr/local/lib/python3.6/dist-packages (from gql==0.2.0->wandb) (1.1)\n",
            "Requirement already satisfied, skipping upgrade: pathtools>=0.1.1 in /usr/local/lib/python3.6/dist-packages (from watchdog>=0.8.3->wandb) (0.1.2)\n",
            "Requirement already satisfied, skipping upgrade: urllib3>=1.10.0 in /usr/local/lib/python3.6/dist-packages (from sentry-sdk>=0.4.0->wandb) (1.24.3)\n",
            "Requirement already satisfied, skipping upgrade: certifi in /usr/local/lib/python3.6/dist-packages (from sentry-sdk>=0.4.0->wandb) (2020.4.5.1)\n",
            "Requirement already satisfied, skipping upgrade: idna<2.9,>=2.5 in /usr/local/lib/python3.6/dist-packages (from requests>=2.0.0->wandb) (2.8)\n",
            "Requirement already satisfied, skipping upgrade: chardet<3.1.0,>=3.0.2 in /usr/local/lib/python3.6/dist-packages (from requests>=2.0.0->wandb) (3.0.4)\n",
            "Requirement already satisfied, skipping upgrade: gitdb<5,>=4.0.1 in /usr/local/lib/python3.6/dist-packages (from GitPython>=1.0.0->wandb) (4.0.4)\n",
            "Requirement already satisfied, skipping upgrade: smmap<4,>=3.0.1 in /usr/local/lib/python3.6/dist-packages (from gitdb<5,>=4.0.1->GitPython>=1.0.0->wandb) (3.0.2)\n",
            "Requirement already up-to-date: catalyst in /usr/local/lib/python3.6/dist-packages (20.4.1)\n",
            "Requirement already satisfied, skipping upgrade: plotly>=4.1.0 in /usr/local/lib/python3.6/dist-packages (from catalyst) (4.4.1)\n",
            "Requirement already satisfied, skipping upgrade: matplotlib in /usr/local/lib/python3.6/dist-packages (from catalyst) (3.2.1)\n",
            "Requirement already satisfied, skipping upgrade: crc32c>=1.7 in /usr/local/lib/python3.6/dist-packages (from catalyst) (2.0)\n",
            "Requirement already satisfied, skipping upgrade: torchvision>=0.2.1 in /usr/local/lib/python3.6/dist-packages (from catalyst) (0.5.0)\n",
            "Requirement already satisfied, skipping upgrade: opencv-python in /usr/local/lib/python3.6/dist-packages (from catalyst) (4.1.2.30)\n",
            "Requirement already satisfied, skipping upgrade: PyYAML in /usr/local/lib/python3.6/dist-packages (from catalyst) (3.13)\n",
            "Requirement already satisfied, skipping upgrade: tensorboard>=1.14.0 in /usr/local/lib/python3.6/dist-packages (from catalyst) (2.2.0)\n",
            "Requirement already satisfied, skipping upgrade: torch>=1.0.0 in /usr/local/lib/python3.6/dist-packages (from catalyst) (1.4.0)\n",
            "Requirement already satisfied, skipping upgrade: pandas>=0.22 in /usr/local/lib/python3.6/dist-packages (from catalyst) (1.0.3)\n",
            "Requirement already satisfied, skipping upgrade: Pillow<7 in /usr/local/lib/python3.6/dist-packages (from catalyst) (6.2.2)\n",
            "Requirement already satisfied, skipping upgrade: ipython in /usr/local/lib/python3.6/dist-packages (from catalyst) (5.5.0)\n",
            "Requirement already satisfied, skipping upgrade: deprecation in /usr/local/lib/python3.6/dist-packages (from catalyst) (2.0.7)\n",
            "Requirement already satisfied, skipping upgrade: numpy>=1.16.4 in /usr/local/lib/python3.6/dist-packages (from catalyst) (1.18.2)\n",
            "Requirement already satisfied, skipping upgrade: GitPython>=2.1.11 in /usr/local/lib/python3.6/dist-packages (from catalyst) (3.1.1)\n",
            "Requirement already satisfied, skipping upgrade: tqdm>=4.33.0 in /usr/local/lib/python3.6/dist-packages (from catalyst) (4.38.0)\n",
            "Requirement already satisfied, skipping upgrade: packaging in /usr/local/lib/python3.6/dist-packages (from catalyst) (20.3)\n",
            "Requirement already satisfied, skipping upgrade: scikit-image>=0.14.2 in /usr/local/lib/python3.6/dist-packages (from catalyst) (0.16.2)\n",
            "Requirement already satisfied, skipping upgrade: scikit-learn>=0.20 in /usr/local/lib/python3.6/dist-packages (from catalyst) (0.22.2.post1)\n",
            "Requirement already satisfied, skipping upgrade: seaborn in /usr/local/lib/python3.6/dist-packages (from catalyst) (0.10.0)\n",
            "Requirement already satisfied, skipping upgrade: imageio in /usr/local/lib/python3.6/dist-packages (from catalyst) (2.4.1)\n",
            "Requirement already satisfied, skipping upgrade: tensorboardX in /usr/local/lib/python3.6/dist-packages (from catalyst) (2.0)\n",
            "Requirement already satisfied, skipping upgrade: retrying>=1.3.3 in /usr/local/lib/python3.6/dist-packages (from plotly>=4.1.0->catalyst) (1.3.3)\n",
            "Requirement already satisfied, skipping upgrade: six in /usr/local/lib/python3.6/dist-packages (from plotly>=4.1.0->catalyst) (1.12.0)\n",
            "Requirement already satisfied, skipping upgrade: python-dateutil>=2.1 in /usr/local/lib/python3.6/dist-packages (from matplotlib->catalyst) (2.8.1)\n",
            "Requirement already satisfied, skipping upgrade: cycler>=0.10 in /usr/local/lib/python3.6/dist-packages (from matplotlib->catalyst) (0.10.0)\n",
            "Requirement already satisfied, skipping upgrade: pyparsing!=2.0.4,!=2.1.2,!=2.1.6,>=2.0.1 in /usr/local/lib/python3.6/dist-packages (from matplotlib->catalyst) (2.4.7)\n",
            "Requirement already satisfied, skipping upgrade: kiwisolver>=1.0.1 in /usr/local/lib/python3.6/dist-packages (from matplotlib->catalyst) (1.2.0)\n",
            "Requirement already satisfied, skipping upgrade: wheel>=0.26; python_version >= \"3\" in /usr/local/lib/python3.6/dist-packages (from tensorboard>=1.14.0->catalyst) (0.34.2)\n",
            "Requirement already satisfied, skipping upgrade: protobuf>=3.6.0 in /usr/local/lib/python3.6/dist-packages (from tensorboard>=1.14.0->catalyst) (3.10.0)\n",
            "Requirement already satisfied, skipping upgrade: setuptools>=41.0.0 in /usr/local/lib/python3.6/dist-packages (from tensorboard>=1.14.0->catalyst) (46.1.3)\n",
            "Requirement already satisfied, skipping upgrade: absl-py>=0.4 in /usr/local/lib/python3.6/dist-packages (from tensorboard>=1.14.0->catalyst) (0.9.0)\n",
            "Requirement already satisfied, skipping upgrade: google-auth<2,>=1.6.3 in /usr/local/lib/python3.6/dist-packages (from tensorboard>=1.14.0->catalyst) (1.7.2)\n",
            "Requirement already satisfied, skipping upgrade: google-auth-oauthlib<0.5,>=0.4.1 in /usr/local/lib/python3.6/dist-packages (from tensorboard>=1.14.0->catalyst) (0.4.1)\n",
            "Requirement already satisfied, skipping upgrade: werkzeug>=0.11.15 in /usr/local/lib/python3.6/dist-packages (from tensorboard>=1.14.0->catalyst) (1.0.1)\n",
            "Requirement already satisfied, skipping upgrade: requests<3,>=2.21.0 in /usr/local/lib/python3.6/dist-packages (from tensorboard>=1.14.0->catalyst) (2.21.0)\n",
            "Requirement already satisfied, skipping upgrade: tensorboard-plugin-wit>=1.6.0 in /usr/local/lib/python3.6/dist-packages (from tensorboard>=1.14.0->catalyst) (1.6.0.post3)\n",
            "Requirement already satisfied, skipping upgrade: markdown>=2.6.8 in /usr/local/lib/python3.6/dist-packages (from tensorboard>=1.14.0->catalyst) (3.2.1)\n",
            "Requirement already satisfied, skipping upgrade: grpcio>=1.24.3 in /usr/local/lib/python3.6/dist-packages (from tensorboard>=1.14.0->catalyst) (1.28.1)\n",
            "Requirement already satisfied, skipping upgrade: pytz>=2017.2 in /usr/local/lib/python3.6/dist-packages (from pandas>=0.22->catalyst) (2018.9)\n",
            "Requirement already satisfied, skipping upgrade: pexpect; sys_platform != \"win32\" in /usr/local/lib/python3.6/dist-packages (from ipython->catalyst) (4.8.0)\n",
            "Requirement already satisfied, skipping upgrade: pickleshare in /usr/local/lib/python3.6/dist-packages (from ipython->catalyst) (0.7.5)\n",
            "Requirement already satisfied, skipping upgrade: simplegeneric>0.8 in /usr/local/lib/python3.6/dist-packages (from ipython->catalyst) (0.8.1)\n",
            "Requirement already satisfied, skipping upgrade: pygments in /usr/local/lib/python3.6/dist-packages (from ipython->catalyst) (2.1.3)\n",
            "Requirement already satisfied, skipping upgrade: decorator in /usr/local/lib/python3.6/dist-packages (from ipython->catalyst) (4.4.2)\n",
            "Requirement already satisfied, skipping upgrade: prompt-toolkit<2.0.0,>=1.0.4 in /usr/local/lib/python3.6/dist-packages (from ipython->catalyst) (1.0.18)\n",
            "Requirement already satisfied, skipping upgrade: traitlets>=4.2 in /usr/local/lib/python3.6/dist-packages (from ipython->catalyst) (4.3.3)\n",
            "Requirement already satisfied, skipping upgrade: gitdb<5,>=4.0.1 in /usr/local/lib/python3.6/dist-packages (from GitPython>=2.1.11->catalyst) (4.0.4)\n",
            "Requirement already satisfied, skipping upgrade: PyWavelets>=0.4.0 in /usr/local/lib/python3.6/dist-packages (from scikit-image>=0.14.2->catalyst) (1.1.1)\n",
            "Requirement already satisfied, skipping upgrade: scipy>=0.19.0 in /usr/local/lib/python3.6/dist-packages (from scikit-image>=0.14.2->catalyst) (1.4.1)\n",
            "Requirement already satisfied, skipping upgrade: networkx>=2.0 in /usr/local/lib/python3.6/dist-packages (from scikit-image>=0.14.2->catalyst) (2.4)\n",
            "Requirement already satisfied, skipping upgrade: joblib>=0.11 in /usr/local/lib/python3.6/dist-packages (from scikit-learn>=0.20->catalyst) (0.14.1)\n",
            "Requirement already satisfied, skipping upgrade: pyasn1-modules>=0.2.1 in /usr/local/lib/python3.6/dist-packages (from google-auth<2,>=1.6.3->tensorboard>=1.14.0->catalyst) (0.2.8)\n",
            "Requirement already satisfied, skipping upgrade: cachetools<3.2,>=2.0.0 in /usr/local/lib/python3.6/dist-packages (from google-auth<2,>=1.6.3->tensorboard>=1.14.0->catalyst) (3.1.1)\n",
            "Requirement already satisfied, skipping upgrade: rsa<4.1,>=3.1.4 in /usr/local/lib/python3.6/dist-packages (from google-auth<2,>=1.6.3->tensorboard>=1.14.0->catalyst) (4.0)\n",
            "Requirement already satisfied, skipping upgrade: requests-oauthlib>=0.7.0 in /usr/local/lib/python3.6/dist-packages (from google-auth-oauthlib<0.5,>=0.4.1->tensorboard>=1.14.0->catalyst) (1.3.0)\n",
            "Requirement already satisfied, skipping upgrade: chardet<3.1.0,>=3.0.2 in /usr/local/lib/python3.6/dist-packages (from requests<3,>=2.21.0->tensorboard>=1.14.0->catalyst) (3.0.4)\n",
            "Requirement already satisfied, skipping upgrade: urllib3<1.25,>=1.21.1 in /usr/local/lib/python3.6/dist-packages (from requests<3,>=2.21.0->tensorboard>=1.14.0->catalyst) (1.24.3)\n",
            "Requirement already satisfied, skipping upgrade: idna<2.9,>=2.5 in /usr/local/lib/python3.6/dist-packages (from requests<3,>=2.21.0->tensorboard>=1.14.0->catalyst) (2.8)\n",
            "Requirement already satisfied, skipping upgrade: certifi>=2017.4.17 in /usr/local/lib/python3.6/dist-packages (from requests<3,>=2.21.0->tensorboard>=1.14.0->catalyst) (2020.4.5.1)\n",
            "Requirement already satisfied, skipping upgrade: ptyprocess>=0.5 in /usr/local/lib/python3.6/dist-packages (from pexpect; sys_platform != \"win32\"->ipython->catalyst) (0.6.0)\n",
            "Requirement already satisfied, skipping upgrade: wcwidth in /usr/local/lib/python3.6/dist-packages (from prompt-toolkit<2.0.0,>=1.0.4->ipython->catalyst) (0.1.9)\n",
            "Requirement already satisfied, skipping upgrade: ipython-genutils in /usr/local/lib/python3.6/dist-packages (from traitlets>=4.2->ipython->catalyst) (0.2.0)\n",
            "Requirement already satisfied, skipping upgrade: smmap<4,>=3.0.1 in /usr/local/lib/python3.6/dist-packages (from gitdb<5,>=4.0.1->GitPython>=2.1.11->catalyst) (3.0.2)\n",
            "Requirement already satisfied, skipping upgrade: pyasn1<0.5.0,>=0.4.6 in /usr/local/lib/python3.6/dist-packages (from pyasn1-modules>=0.2.1->google-auth<2,>=1.6.3->tensorboard>=1.14.0->catalyst) (0.4.8)\n",
            "Requirement already satisfied, skipping upgrade: oauthlib>=3.0.0 in /usr/local/lib/python3.6/dist-packages (from requests-oauthlib>=0.7.0->google-auth-oauthlib<0.5,>=0.4.1->tensorboard>=1.14.0->catalyst) (3.1.0)\n",
            "Requirement already up-to-date: torchtext in /usr/local/lib/python3.6/dist-packages (0.5.0)\n",
            "Requirement already satisfied, skipping upgrade: sentencepiece in /usr/local/lib/python3.6/dist-packages (from torchtext) (0.1.85)\n",
            "Requirement already satisfied, skipping upgrade: six in /usr/local/lib/python3.6/dist-packages (from torchtext) (1.12.0)\n",
            "Requirement already satisfied, skipping upgrade: requests in /usr/local/lib/python3.6/dist-packages (from torchtext) (2.21.0)\n",
            "Requirement already satisfied, skipping upgrade: numpy in /usr/local/lib/python3.6/dist-packages (from torchtext) (1.18.2)\n",
            "Requirement already satisfied, skipping upgrade: tqdm in /usr/local/lib/python3.6/dist-packages (from torchtext) (4.38.0)\n",
            "Requirement already satisfied, skipping upgrade: torch in /usr/local/lib/python3.6/dist-packages (from torchtext) (1.4.0)\n",
            "Requirement already satisfied, skipping upgrade: urllib3<1.25,>=1.21.1 in /usr/local/lib/python3.6/dist-packages (from requests->torchtext) (1.24.3)\n",
            "Requirement already satisfied, skipping upgrade: idna<2.9,>=2.5 in /usr/local/lib/python3.6/dist-packages (from requests->torchtext) (2.8)\n",
            "Requirement already satisfied, skipping upgrade: chardet<3.1.0,>=3.0.2 in /usr/local/lib/python3.6/dist-packages (from requests->torchtext) (3.0.4)\n",
            "Requirement already satisfied, skipping upgrade: certifi>=2017.4.17 in /usr/local/lib/python3.6/dist-packages (from requests->torchtext) (2020.4.5.1)\n",
            "\u001b[34m\u001b[1mwandb\u001b[0m: Appending key for api.wandb.ai to your netrc file: /root/.netrc\n",
            "\u001b[32mSuccessfully logged in to Weights & Biases!\u001b[0m\n"
          ],
          "name": "stdout"
        }
      ]
    },
    {
      "cell_type": "code",
      "metadata": {
        "id": "POoKi0SB9_M-",
        "colab_type": "code",
        "outputId": "25d6dbd1-ea2e-46f9-e21b-6e94e17ca756",
        "colab": {
          "base_uri": "https://localhost:8080/",
          "height": 0
        }
      },
      "source": [
        "import torch\n",
        "import torchtext\n",
        "import wandb\n",
        "import catalyst\n",
        "print(\"Torchtext Version:\", torchtext.__version__)\n",
        "print(\"PyTorch Version:\", torch.__version__)\n",
        "print(\"Catalyst Version:\", catalyst.__version__)\n",
        "print(\"Wandb Version:\", wandb.__version__)"
      ],
      "execution_count": 18,
      "outputs": [
        {
          "output_type": "stream",
          "text": [
            "Torchtext Version: 0.5.0\n",
            "PyTorch Version: 1.4.0\n",
            "Catalyst Version: 20.04.1\n",
            "Wandb Version: 0.8.32\n"
          ],
          "name": "stdout"
        }
      ]
    },
    {
      "cell_type": "code",
      "metadata": {
        "id": "IeYvPwP8-XdF",
        "colab_type": "code",
        "colab": {}
      },
      "source": [
        "import os\n",
        "os.environ['CUDA_LAUNCH_BLOCKING'] = \"1\""
      ],
      "execution_count": 0,
      "outputs": []
    },
    {
      "cell_type": "code",
      "metadata": {
        "id": "FEActmN0-Y5-",
        "colab_type": "code",
        "colab": {}
      },
      "source": [
        "def get_device():\n",
        "\tif torch.cuda.is_available():\n",
        "\t\treturn torch.device('cuda:0')\n",
        "\telse:\n",
        "\t\treturn torch.device('cpu')\n",
        "\n",
        "device = get_device()"
      ],
      "execution_count": 0,
      "outputs": []
    },
    {
      "cell_type": "markdown",
      "metadata": {
        "id": "2UvBwBd9IwZu",
        "colab_type": "text"
      },
      "source": [
        "\n",
        "# Pipeline Example for SNLI"
      ]
    },
    {
      "cell_type": "code",
      "metadata": {
        "colab_type": "code",
        "id": "0zaJUn08ji3c",
        "colab": {}
      },
      "source": [
        "import pdb\n",
        "import torch\n",
        "import torch.nn as nn\n",
        "import torch.nn.functional as F\n",
        "from torch.utils.data import Dataset, DataLoader, TensorDataset\n",
        "from torchtext import data\n",
        "from torchtext import datasets\n",
        "import pandas as pd\n",
        "import numpy as np\n",
        "from sklearn.metrics import accuracy_score\n",
        "from tqdm.notebook import tqdm\n",
        "from catalyst import dl\n",
        "import wandb\n",
        "\n",
        "DEVICE = 'cuda'"
      ],
      "execution_count": 0,
      "outputs": []
    },
    {
      "cell_type": "code",
      "metadata": {
        "id": "T5rAaxE3Iwga",
        "colab_type": "code",
        "colab": {}
      },
      "source": [
        "# create directory for checkpoints\n",
        "logdir = 'wandb-log-directory'"
      ],
      "execution_count": 0,
      "outputs": []
    },
    {
      "cell_type": "code",
      "metadata": {
        "id": "1rpPVtGa-TiH",
        "colab_type": "code",
        "colab": {
          "base_uri": "https://localhost:8080/",
          "height": 162
        },
        "outputId": "d26f99b8-f94d-448d-8bf6-7ad062d651d0"
      },
      "source": [
        "wandb.init(project=\"text-augmentation\", dir=logdir)"
      ],
      "execution_count": 23,
      "outputs": [
        {
          "output_type": "display_data",
          "data": {
            "text/html": [
              "\n",
              "                Logging results to <a href=\"https://wandb.com\" target=\"_blank\">Weights & Biases</a> <a href=\"https://docs.wandb.com/integrations/jupyter.html\" target=\"_blank\">(Documentation)</a>.<br/>\n",
              "                Project page: <a href=\"https://app.wandb.ai/msaidov/text-augmentation\" target=\"_blank\">https://app.wandb.ai/msaidov/text-augmentation</a><br/>\n",
              "                Run page: <a href=\"https://app.wandb.ai/msaidov/text-augmentation/runs/2ljefscp\" target=\"_blank\">https://app.wandb.ai/msaidov/text-augmentation/runs/2ljefscp</a><br/>\n",
              "            "
            ],
            "text/plain": [
              "<IPython.core.display.HTML object>"
            ]
          },
          "metadata": {
            "tags": []
          }
        },
        {
          "output_type": "execute_result",
          "data": {
            "text/plain": [
              "W&B Run: https://app.wandb.ai/msaidov/text-augmentation/runs/2ljefscp"
            ]
          },
          "metadata": {
            "tags": []
          },
          "execution_count": 23
        },
        {
          "output_type": "stream",
          "text": [
            "/usr/local/lib/python3.6/dist-packages/wandb/run_manager.py:677: ResourceWarning:\n",
            "\n",
            "unclosed <ssl.SSLSocket fd=92, family=AddressFamily.AF_INET, type=SocketKind.SOCK_STREAM, proto=6, laddr=('172.28.0.2', 57600), raddr=('35.186.228.49', 443)>\n",
            "\n"
          ],
          "name": "stderr"
        }
      ]
    },
    {
      "cell_type": "code",
      "metadata": {
        "colab_type": "code",
        "id": "JiRRQXGtZzkv",
        "colab": {}
      },
      "source": [
        "class BiLstm(nn.Module):\n",
        "    def __init__(self, vocab_size, h_size, n_layers, dropout, padding_idx):\n",
        "        super(BiLstm, self).__init__()\n",
        "        self.embedding = nn.Embedding(vocab_size, h_size, padding_idx=padding_idx, scale_grad_by_freq=True)\n",
        "        self.lstm = nn.LSTM(h_size, h_size, n_layers, bidirectional=True, dropout=dropout)\n",
        "        self.out = nn.Sequential(\n",
        "            nn.Dropout(dropout),\n",
        "            nn.Linear(2 * 4 * n_layers * h_size, h_size * 3),\n",
        "            nn.BatchNorm1d(h_size * 3),\n",
        "            nn.PReLU(),\n",
        "            nn.Dropout(dropout),\n",
        "            nn.Linear(h_size * 3, h_size * 3),\n",
        "            nn.BatchNorm1d(h_size * 3),\n",
        "            nn.PReLU(),\n",
        "            nn.Dropout(dropout),\n",
        "            nn.Linear(h_size * 3, 3)\n",
        "        )\n",
        "\n",
        "        self.init_weights()\n",
        "\n",
        "    def forward(self, batch):\n",
        "        prem, hyp = batch\n",
        "        prem, prem_len = prem\n",
        "        hyp, hyp_len = hyp\n",
        "\n",
        "        prem, hyp = self.embedding(prem), self.embedding(hyp)\n",
        "\n",
        "        # optimize perfomance of RNN by omitting padding token\n",
        "        prem = nn.utils.rnn.pack_padded_sequence(input=prem, lengths=prem_len, enforce_sorted=False)\n",
        "        hyp = nn.utils.rnn.pack_padded_sequence(input=hyp, lengths=hyp_len, enforce_sorted=False)\n",
        "        _, h_prem = self.lstm(prem)\n",
        "        _, h_hyp = self.lstm(hyp)\n",
        "\n",
        "        h_prem = torch.cat(h_prem, dim=-1)\n",
        "        h_prem = h_prem.permute(1,0,2)\n",
        "        h_prem = h_prem.contiguous().view(h_prem.size(0),-1)\n",
        "\n",
        "        h_hyp = torch.cat(h_hyp, dim=-1)\n",
        "        h_hyp = h_hyp.permute(1,0,2)\n",
        "        h_hyp = h_hyp.contiguous().view(h_hyp.size(0),-1)\n",
        "\n",
        "        h = torch.cat([h_prem, h_hyp],dim=-1)\n",
        "        h = h.contiguous().view(h.size(0), -1)\n",
        "        \n",
        "        return self.out(h)\n",
        " \n",
        "    def init_weights(self):\n",
        "        d = self.embedding.weight.size(1)\n",
        "        nn.init.uniform_(self.embedding.weight, -1.0 / np.sqrt(d), 1.0 / np.sqrt(d))"
      ],
      "execution_count": 0,
      "outputs": []
    },
    {
      "cell_type": "code",
      "metadata": {
        "colab_type": "code",
        "id": "85bYnq1I7R2B",
        "outputId": "a6ab6537-1c36-451c-c3b7-dc91088ab7d4",
        "colab": {
          "base_uri": "https://localhost:8080/",
          "height": 54
        }
      },
      "source": [
        "%%time\n",
        "\n",
        "TEXT = data.Field(lower=True, tokenize='spacy', include_lengths=True)\n",
        "LABEL = data.LabelField(sequential=False, is_target=True)\n",
        "\n",
        "train, valid, test = datasets.SNLI.splits(TEXT, LABEL)"
      ],
      "execution_count": 25,
      "outputs": [
        {
          "output_type": "stream",
          "text": [
            "CPU times: user 1min 25s, sys: 1.9 s, total: 1min 27s\n",
            "Wall time: 1min 27s\n"
          ],
          "name": "stdout"
        }
      ]
    },
    {
      "cell_type": "code",
      "metadata": {
        "colab_type": "code",
        "id": "VLRf8HHaZzk7",
        "colab": {}
      },
      "source": [
        "TEXT.build_vocab(train, valid, min_freq=5)\n",
        "LABEL.build_vocab(train)"
      ],
      "execution_count": 0,
      "outputs": []
    },
    {
      "cell_type": "code",
      "metadata": {
        "colab_type": "code",
        "id": "-x6V6A0GsUuv",
        "colab": {}
      },
      "source": [
        "# Simple wrapper to join torchtext and catalyst API\n",
        "\n",
        "class IteratorWrapper(DataLoader):\n",
        "    __initialized__ = False\n",
        "\n",
        "    def __init__(self, iter: iter):\n",
        "        self.batch_size = iter.batch_size\n",
        "        self.num_workers = 1\n",
        "        self.collate_fn = None\n",
        "        self.pin_memory = False\n",
        "        self.drop_last = False\n",
        "        self.timeout = 0\n",
        "        self.worker_init_fn = None\n",
        "        self.sampler = iter\n",
        "        self.batch_sampler = iter\n",
        "        self.__initialized__ = True\n",
        "\n",
        "    def __iter__(self):\n",
        "        return map(lambda batch: {\n",
        "                    'features': (batch.premise, batch.hypothesis),\n",
        "                    'targets': batch.label,\n",
        "                }, self.batch_sampler.__iter__())\n",
        "\n",
        "    def __len__(self):\n",
        "        return len(self.batch_sampler)"
      ],
      "execution_count": 0,
      "outputs": []
    },
    {
      "cell_type": "code",
      "metadata": {
        "id": "SfV88eKVIwjP",
        "colab_type": "code",
        "colab": {}
      },
      "source": [
        "# example of your hyperparameters \n",
        "# keep them as global vars or in the 'config' dict\n",
        "n_layers = 4\n",
        "h_size = 128\n",
        "embed_dim = 512\n",
        "num_epochs = 10\n",
        "dropout = 0.1\n",
        "batch_size = 512 # BatchNorm do not work properly with small batch sizes\n",
        "vocab_size = len(TEXT.vocab)\n",
        "\n",
        "train_iter, valid_iter, test_iter = data.BucketIterator.splits((train, valid, test), batch_size=batch_size, device=DEVICE)\n",
        "train_iter = IteratorWrapper(train_iter)\n",
        "valid_iter = IteratorWrapper(valid_iter)\n",
        "test_iter = IteratorWrapper(test_iter)\n",
        " \n",
        "loaders = {'train': train_iter, 'valid': valid_iter}\n",
        "\n",
        "model = BiLstm(\n",
        "    vocab_size=vocab_size,\n",
        "    h_size=h_size,\n",
        "    n_layers=n_layers, \n",
        "    dropout=dropout,\n",
        "    padding_idx=TEXT.vocab.stoi[TEXT.pad_token]\n",
        ")\n",
        "optimizer = torch.optim.Adam(model.parameters(), lr=0.001)\n",
        "scheduler = torch.optim.lr_scheduler.ReduceLROnPlateau(optimizer, verbose=True, patience=2, factor=0.5)"
      ],
      "execution_count": 0,
      "outputs": []
    },
    {
      "cell_type": "code",
      "metadata": {
        "id": "BMqvUgvPIwjr",
        "colab_type": "code",
        "outputId": "63af32a6-2528-4f6d-eb64-4bd74b11b180",
        "colab": {
          "base_uri": "https://localhost:8080/",
          "height": 1000
        }
      },
      "source": [
        "runner = dl.SupervisedRunner(DEVICE)\n",
        "runner.train(model=model, \n",
        "             loaders=loaders,\n",
        "             num_epochs=num_epochs,\n",
        "             logdir=logdir,\n",
        "             criterion=nn.CrossEntropyLoss(),\n",
        "             optimizer=optimizer, \n",
        "             scheduler=scheduler,  \n",
        "             callbacks=[\n",
        "                dl.callbacks.CheckpointCallback(2),\n",
        "                dl.callbacks.AccuracyCallback(),\n",
        "                dl.callbacks.EarlyStoppingCallback(3), # stop training, if valid loss does not improve last 3 epochs\n",
        "                dl.callbacks.WandbLogger(\n",
        "                    project=\"text-augmentation\"\n",
        "                )\n",
        "             ],\n",
        "             monitoring_params={\n",
        "                 'entity': 'msaidov',\n",
        "                 'project': 'text-augmentation',\n",
        "                 'name': 'snli-dimension-fix',\n",
        "                 'group': 'examples',\n",
        "                 'config': {\n",
        "                     'model': 'bilstm',\n",
        "                     'optimizer': str(optimizer),\n",
        "                     'scheduler': 'plateau',\n",
        "                     'early_stop': 3,\n",
        "                     'vocab_size': vocab_size,\n",
        "                     'h_size': h_size,\n",
        "                     'n_layers': n_layers,\n",
        "                     'dropout': dropout,\n",
        "                     'batch_size': batch_size,\n",
        "                     'embed_dim': embed_dim,\n",
        "                 },\n",
        "             },\n",
        "#              check=True, # set if you want to check pipeline for correctness, without actual training\n",
        "             verbose=True)"
      ],
      "execution_count": 14,
      "outputs": [
        {
          "output_type": "stream",
          "text": [
            "3/10 * Epoch (train): 100% 1073/1073 [07:11<00:00,  2.49it/s, accuracy01=0.807, loss=0.515]\n",
            "3/10 * Epoch (valid): 100% 20/20 [00:02<00:00,  7.90it/s, accuracy01=0.614, loss=0.870]\n",
            "[2020-04-18 14:30:50,985] \n",
            "3/10 * Epoch 3 (_base): lr=0.0010 | momentum=0.9000\n",
            "3/10 * Epoch 3 (train): accuracy01=0.7668 | loss=0.5722\n",
            "3/10 * Epoch 3 (valid): accuracy01=0.7570 | loss=0.5984\n"
          ],
          "name": "stdout"
        },
        {
          "output_type": "stream",
          "text": [
            "INFO:metrics_logger:\n",
            "3/10 * Epoch 3 (_base): lr=0.0010 | momentum=0.9000\n",
            "3/10 * Epoch 3 (train): accuracy01=0.7668 | loss=0.5722\n",
            "3/10 * Epoch 3 (valid): accuracy01=0.7570 | loss=0.5984\n"
          ],
          "name": "stderr"
        },
        {
          "output_type": "stream",
          "text": [
            "4/10 * Epoch (train): 100% 1073/1073 [07:10<00:00,  2.49it/s, accuracy01=0.816, loss=0.499]\n",
            "4/10 * Epoch (valid): 100% 20/20 [00:02<00:00,  7.87it/s, accuracy01=0.632, loss=0.853]\n",
            "[2020-04-18 14:38:04,541] \n",
            "4/10 * Epoch 4 (_base): lr=0.0010 | momentum=0.9000\n",
            "4/10 * Epoch 4 (train): accuracy01=0.7891 | loss=0.5253\n",
            "4/10 * Epoch 4 (valid): accuracy01=0.7659 | loss=0.5858\n"
          ],
          "name": "stdout"
        },
        {
          "output_type": "stream",
          "text": [
            "INFO:metrics_logger:\n",
            "4/10 * Epoch 4 (_base): lr=0.0010 | momentum=0.9000\n",
            "4/10 * Epoch 4 (train): accuracy01=0.7891 | loss=0.5253\n",
            "4/10 * Epoch 4 (valid): accuracy01=0.7659 | loss=0.5858\n"
          ],
          "name": "stderr"
        },
        {
          "output_type": "stream",
          "text": [
            "5/10 * Epoch (train): 100% 1073/1073 [07:15<00:00,  2.46it/s, accuracy01=0.824, loss=0.473]\n",
            "5/10 * Epoch (valid): 100% 20/20 [00:02<00:00,  7.92it/s, accuracy01=0.693, loss=0.745]\n",
            "[2020-04-18 14:45:23,416] \n",
            "5/10 * Epoch 5 (_base): lr=0.0010 | momentum=0.9000\n",
            "5/10 * Epoch 5 (train): accuracy01=0.8060 | loss=0.4887\n",
            "5/10 * Epoch 5 (valid): accuracy01=0.7707 | loss=0.5823\n"
          ],
          "name": "stdout"
        },
        {
          "output_type": "stream",
          "text": [
            "INFO:metrics_logger:\n",
            "5/10 * Epoch 5 (_base): lr=0.0010 | momentum=0.9000\n",
            "5/10 * Epoch 5 (train): accuracy01=0.8060 | loss=0.4887\n",
            "5/10 * Epoch 5 (valid): accuracy01=0.7707 | loss=0.5823\n"
          ],
          "name": "stderr"
        },
        {
          "output_type": "stream",
          "text": [
            "6/10 * Epoch (train): 100% 1073/1073 [07:15<00:00,  2.46it/s, accuracy01=0.826, loss=0.465]\n",
            "6/10 * Epoch (valid): 100% 20/20 [00:02<00:00,  7.73it/s, accuracy01=0.649, loss=0.770]\n",
            "[2020-04-18 14:52:41,877] \n",
            "6/10 * Epoch 6 (_base): lr=0.0010 | momentum=0.9000\n",
            "6/10 * Epoch 6 (train): accuracy01=0.8210 | loss=0.4551\n",
            "6/10 * Epoch 6 (valid): accuracy01=0.7704 | loss=0.5833\n"
          ],
          "name": "stdout"
        },
        {
          "output_type": "stream",
          "text": [
            "INFO:metrics_logger:\n",
            "6/10 * Epoch 6 (_base): lr=0.0010 | momentum=0.9000\n",
            "6/10 * Epoch 6 (train): accuracy01=0.8210 | loss=0.4551\n",
            "6/10 * Epoch 6 (valid): accuracy01=0.7704 | loss=0.5833\n"
          ],
          "name": "stderr"
        },
        {
          "output_type": "stream",
          "text": [
            "7/10 * Epoch (train): 100% 1073/1073 [07:16<00:00,  2.46it/s, accuracy01=0.848, loss=0.397]\n",
            "7/10 * Epoch (valid): 100% 20/20 [00:02<00:00,  7.87it/s, accuracy01=0.675, loss=0.771]\n",
            "[2020-04-18 15:00:00,862] \n",
            "7/10 * Epoch 7 (_base): lr=0.0010 | momentum=0.9000\n",
            "7/10 * Epoch 7 (train): accuracy01=0.8341 | loss=0.4247\n",
            "7/10 * Epoch 7 (valid): accuracy01=0.7772 | loss=0.5795\n"
          ],
          "name": "stdout"
        },
        {
          "output_type": "stream",
          "text": [
            "INFO:metrics_logger:\n",
            "7/10 * Epoch 7 (_base): lr=0.0010 | momentum=0.9000\n",
            "7/10 * Epoch 7 (train): accuracy01=0.8341 | loss=0.4247\n",
            "7/10 * Epoch 7 (valid): accuracy01=0.7772 | loss=0.5795\n"
          ],
          "name": "stderr"
        },
        {
          "output_type": "stream",
          "text": [
            "8/10 * Epoch (train): 100% 1073/1073 [07:17<00:00,  2.45it/s, accuracy01=0.836, loss=0.433]\n",
            "8/10 * Epoch (valid): 100% 20/20 [00:02<00:00,  7.57it/s, accuracy01=0.693, loss=0.838]\n",
            "[2020-04-18 15:07:21,423] \n",
            "8/10 * Epoch 8 (_base): lr=0.0010 | momentum=0.9000\n",
            "8/10 * Epoch 8 (train): accuracy01=0.8470 | loss=0.3957\n",
            "8/10 * Epoch 8 (valid): accuracy01=0.7833 | loss=0.5913\n"
          ],
          "name": "stdout"
        },
        {
          "output_type": "stream",
          "text": [
            "INFO:metrics_logger:\n",
            "8/10 * Epoch 8 (_base): lr=0.0010 | momentum=0.9000\n",
            "8/10 * Epoch 8 (train): accuracy01=0.8470 | loss=0.3957\n",
            "8/10 * Epoch 8 (valid): accuracy01=0.7833 | loss=0.5913\n"
          ],
          "name": "stderr"
        },
        {
          "output_type": "stream",
          "text": [
            "9/10 * Epoch (train): 100% 1073/1073 [07:21<00:00,  2.43it/s, accuracy01=0.846, loss=0.371]\n",
            "9/10 * Epoch (valid): 100% 20/20 [00:03<00:00,  5.14it/s, accuracy01=0.684, loss=0.742]\n",
            "[2020-04-18 15:14:46,899] \n",
            "9/10 * Epoch 9 (_base): lr=0.0010 | momentum=0.9000\n",
            "9/10 * Epoch 9 (train): accuracy01=0.8584 | loss=0.3685\n",
            "9/10 * Epoch 9 (valid): accuracy01=0.7788 | loss=0.6068\n"
          ],
          "name": "stdout"
        },
        {
          "output_type": "stream",
          "text": [
            "INFO:metrics_logger:\n",
            "9/10 * Epoch 9 (_base): lr=0.0010 | momentum=0.9000\n",
            "9/10 * Epoch 9 (train): accuracy01=0.8584 | loss=0.3685\n",
            "9/10 * Epoch 9 (valid): accuracy01=0.7788 | loss=0.6068\n"
          ],
          "name": "stderr"
        },
        {
          "output_type": "stream",
          "text": [
            "10/10 * Epoch (train): 100% 1073/1073 [07:19<00:00,  2.44it/s, accuracy01=0.857, loss=0.343]\n",
            "10/10 * Epoch (valid): 100% 20/20 [00:02<00:00,  7.62it/s, accuracy01=0.675, loss=0.793]\n",
            "Epoch    10: reducing learning rate of group 0 to 5.0000e-04.\n",
            "[2020-04-18 15:22:09,430] \n",
            "10/10 * Epoch 10 (_base): lr=0.0005 | momentum=0.9000\n",
            "10/10 * Epoch 10 (train): accuracy01=0.8689 | loss=0.3431\n",
            "10/10 * Epoch 10 (valid): accuracy01=0.7806 | loss=0.6288\n"
          ],
          "name": "stdout"
        },
        {
          "output_type": "stream",
          "text": [
            "INFO:metrics_logger:\n",
            "10/10 * Epoch 10 (_base): lr=0.0005 | momentum=0.9000\n",
            "10/10 * Epoch 10 (train): accuracy01=0.8689 | loss=0.3431\n",
            "10/10 * Epoch 10 (valid): accuracy01=0.7806 | loss=0.6288\n"
          ],
          "name": "stderr"
        },
        {
          "output_type": "stream",
          "text": [
            "Early stop at 10 epoch\n",
            "Top best models:\n",
            "wandb-log-directory/checkpoints/train.7.pth\t0.5795\n",
            "wandb-log-directory/checkpoints/train.5.pth\t0.5823\n"
          ],
          "name": "stdout"
        },
        {
          "output_type": "stream",
          "text": [
            "/usr/local/lib/python3.6/dist-packages/wandb/run_manager.py:677: ResourceWarning:\n",
            "\n",
            "unclosed <ssl.SSLSocket fd=94, family=AddressFamily.AF_INET, type=SocketKind.SOCK_STREAM, proto=6, laddr=('172.28.0.2', 54248), raddr=('35.186.228.49', 443)>\n",
            "\n"
          ],
          "name": "stderr"
        },
        {
          "output_type": "display_data",
          "data": {
            "text/html": [
              "\n",
              "                Logging results to <a href=\"https://wandb.com\" target=\"_blank\">Weights & Biases</a> <a href=\"https://docs.wandb.com/integrations/jupyter.html\" target=\"_blank\">(Documentation)</a>.<br/>\n",
              "                Project page: <a href=\"https://app.wandb.ai/msaidov/text-augmentation\" target=\"_blank\">https://app.wandb.ai/msaidov/text-augmentation</a><br/>\n",
              "                Run page: <a href=\"https://app.wandb.ai/msaidov/text-augmentation/runs/pi6z6r07\" target=\"_blank\">https://app.wandb.ai/msaidov/text-augmentation/runs/pi6z6r07</a><br/>\n",
              "            "
            ],
            "text/plain": [
              "<IPython.core.display.HTML object>"
            ]
          },
          "metadata": {
            "tags": []
          }
        },
        {
          "output_type": "stream",
          "text": [
            "1/10 * Epoch (train):  34% 368/1073 [02:30<04:47,  2.45it/s, accuracy01=0.645, loss=0.791]"
          ],
          "name": "stdout"
        }
      ]
    },
    {
      "cell_type": "code",
      "metadata": {
        "colab_type": "code",
        "id": "bLqDXEs5RAza",
        "scrolled": true,
        "outputId": "390a8679-bfd8-4954-e299-e2a85b15666d",
        "colab": {
          "base_uri": "https://localhost:8080/",
          "height": 292
        }
      },
      "source": [
        "# Evaluate on the test setssssss\n",
        "\n",
        "runner = dl.SupervisedRunner()\n",
        "y_pred = runner.predict_loader(model, test_iter, verbose=True)\n",
        "# Do not forget, that the NN compute the class logits, from which you actually have to make prediction\n",
        "y_pred = np.argmax(y_pred, axis=1)\n",
        "y_true = np.concatenate([x['targets'].cpu().numpy() for x in test_iter])\n",
        "\n",
        "test_score = accuracy_score(y_true, y_pred)\n",
        "print(test_score)\n",
        "\n",
        "# send test score to wandb\n",
        "wandb.log({'acc/test': test_score})"
      ],
      "execution_count": 15,
      "outputs": [
        {
          "output_type": "stream",
          "text": [
            "1/1 * Epoch (infer): 100% 20/20 [00:03<00:00,  6.57it/s]\n",
            "0.782064332247557\n"
          ],
          "name": "stdout"
        },
        {
          "output_type": "stream",
          "text": [
            "/usr/local/lib/python3.6/dist-packages/wandb/meta.py:36: ResourceWarning:\n",
            "\n",
            "unclosed file <_io.TextIOWrapper name='/tmp/wandb/run-20200418_140859-1677cths/wandb-metadata.json' mode='r' encoding='UTF-8'>\n",
            "\n",
            "/usr/local/lib/python3.6/dist-packages/wandb/jupyter.py:122: ResourceWarning:\n",
            "\n",
            "unclosed <socket.socket fd=86, family=AddressFamily.AF_INET, type=2049, proto=0, laddr=('0.0.0.0', 0)>\n",
            "\n",
            "/usr/local/lib/python3.6/dist-packages/wandb/run_manager.py:677: ResourceWarning:\n",
            "\n",
            "unclosed <ssl.SSLSocket fd=86, family=AddressFamily.AF_INET, type=SocketKind.SOCK_STREAM, proto=6, laddr=('172.28.0.2', 57464), raddr=('35.186.228.49', 443)>\n",
            "\n"
          ],
          "name": "stderr"
        }
      ]
    },
    {
      "cell_type": "code",
      "metadata": {
        "id": "MdHqyASOIwkM",
        "colab_type": "code",
        "colab": {}
      },
      "source": [
        ""
      ],
      "execution_count": 0,
      "outputs": []
    }
  ]
}
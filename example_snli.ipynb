{
 "cells": [
  {
   "cell_type": "markdown",
   "metadata": {},
   "source": [
    "# Pipeline Example for SNLI"
   ]
  },
  {
   "cell_type": "code",
   "execution_count": 1,
   "metadata": {
    "colab": {},
    "colab_type": "code",
    "id": "0zaJUn08ji3c"
   },
   "outputs": [
    {
     "name": "stderr",
     "output_type": "stream",
     "text": [
      "/home/denis.litvinov/anaconda3/lib/python3.7/site-packages/tqdm/std.py:658: FutureWarning: The Panel class is removed from pandas. Accessing it from the top-level namespace will also be removed in the next version\n",
      "  from pandas import Panel\n",
      "I0228 17:11:40.498617 140194564380480 file_utils.py:41] PyTorch version 1.4.0 available.\n",
      "I0228 17:11:41.141555 140194564380480 file_utils.py:57] TensorFlow version 2.0.0 available.\n"
     ]
    }
   ],
   "source": [
    "import torch\n",
    "import torch.nn as nn\n",
    "import torch.nn.functional as F\n",
    "from torch.utils.data import Dataset, DataLoader, TensorDataset\n",
    "from torchtext import data\n",
    "from torchtext import datasets\n",
    "import pandas as pd\n",
    "import numpy as np\n",
    "from sklearn.metrics import accuracy_score\n",
    "from tqdm.notebook import tqdm\n",
    "from catalyst import dl\n",
    "import wandb\n",
    "\n",
    "DEVICE = 'cuda'"
   ]
  },
  {
   "cell_type": "code",
   "execution_count": 2,
   "metadata": {},
   "outputs": [],
   "source": [
    "# create directory for checkpoints\n",
    "logdir = 'logdir'\n",
    "!rm -rf {logdir}\n",
    "# !mkdir {logdir}"
   ]
  },
  {
   "cell_type": "code",
   "execution_count": 3,
   "metadata": {
    "colab": {},
    "colab_type": "code",
    "id": "JiRRQXGtZzkv"
   },
   "outputs": [],
   "source": [
    "# model description in the notebook\n",
    "# it's a good idea to parametrize network by fewer parameters, e.g. through h_size\n",
    "\n",
    "class BiLstm(nn.Module):\n",
    "    def __init__(self, vocab_size, h_size, n_layers, dropout, padding_idx):\n",
    "        super(BiLstm, self).__init__()\n",
    "        self.embedding = nn.Embedding(vocab_size, h_size, padding_idx=padding_idx, scale_grad_by_freq=True)\n",
    "        self.lstm = nn.LSTM(h_size, h_size, n_layers, bidirectional=True, dropout=dropout)\n",
    "        self.out = nn.Sequential(\n",
    "            # here is the typical order of layers in FFNN\n",
    "            nn.Dropout(dropout),\n",
    "            nn.Linear(2*4*n_layers*h_size, h_size*3), # 2 sentences * 2 directions * lstm spec * n_layers * h_size\n",
    "            nn.BatchNorm1d(h_size*3),\n",
    "            nn.PReLU(),\n",
    "            nn.Dropout(dropout),\n",
    "            nn.Linear(h_size*3, 3)\n",
    "        )\n",
    "        \n",
    "        self.init_weights()\n",
    "\n",
    "    def forward(self, batch):\n",
    "        prem, hyp = batch\n",
    "        prem, prem_len = prem\n",
    "        hyp, hyp_len = hyp\n",
    "        \n",
    "        prem, hyp = self.embedding(prem), self.embedding(hyp)\n",
    "        \n",
    "        # optimize perfomance of RNN by omitting padding token\n",
    "        prem = nn.utils.rnn.pack_padded_sequence(prem, prem_len, enforce_sorted=False)\n",
    "        hyp = nn.utils.rnn.pack_padded_sequence(hyp, hyp_len, enforce_sorted=False)\n",
    "        _, h_prem = self.lstm(prem)\n",
    "        _, h_hyp = self.lstm(hyp)\n",
    "        \n",
    "        h_prem = torch.cat(h_prem, dim=-1)\n",
    "        h_prem = h_prem.permute(1,0,2)\n",
    "        h_prem = h_prem.contiguous().view(h_prem.size(0),-1)\n",
    "        \n",
    "        h_hyp = torch.cat(h_hyp, dim=-1)\n",
    "        h_hyp = h_hyp.permute(1,0,2)\n",
    "        h_hyp = h_hyp.contiguous().view(h_hyp.size(0),-1)\n",
    "        \n",
    "        h = torch.cat([h_prem, h_hyp],dim=-1)\n",
    "        return self.out(h)\n",
    "    \n",
    "    def init_weights(self):\n",
    "        d = self.embedding.weight.size(1)\n",
    "        nn.init.uniform_(self.embedding.weight, -1/np.sqrt(d), 1/np.sqrt(d))"
   ]
  },
  {
   "cell_type": "code",
   "execution_count": 4,
   "metadata": {
    "colab": {},
    "colab_type": "code",
    "id": "85bYnq1I7R2B"
   },
   "outputs": [
    {
     "name": "stdout",
     "output_type": "stream",
     "text": [
      "CPU times: user 43.2 s, sys: 650 ms, total: 43.8 s\n",
      "Wall time: 43.6 s\n"
     ]
    }
   ],
   "source": [
    "%%time\n",
    "# if a cell takes a long time to compute - use magic %%time to show others how much.\n",
    "\n",
    "TEXT = data.Field(lower=True, tokenize='spacy', include_lengths=True) # batch_first = False by default in torchtext and pytorch\n",
    "LABEL = data.LabelField(sequential=False, is_target=True)\n",
    "\n",
    "train, valid, test = datasets.SNLI.splits(TEXT, LABEL)"
   ]
  },
  {
   "cell_type": "code",
   "execution_count": 5,
   "metadata": {
    "colab": {},
    "colab_type": "code",
    "id": "VLRf8HHaZzk7"
   },
   "outputs": [
    {
     "data": {
      "text/plain": [
       "16184"
      ]
     },
     "execution_count": 5,
     "metadata": {},
     "output_type": "execute_result"
    }
   ],
   "source": [
    "TEXT.build_vocab(train, valid, min_freq=5) # use min_freq to cutoff rare tokens\n",
    "LABEL.build_vocab(train)\n",
    "\n",
    "# show others important params of the model, if they are not obvious from your code\n",
    "len(TEXT.vocab) "
   ]
  },
  {
   "cell_type": "code",
   "execution_count": 6,
   "metadata": {
    "colab": {},
    "colab_type": "code",
    "id": "-x6V6A0GsUuv"
   },
   "outputs": [],
   "source": [
    "# Simple wrapper to join torchtext and catalyst API\n",
    "\n",
    "class IteratorWrapper(DataLoader):\n",
    "    __initialized__ = False\n",
    "\n",
    "    def __init__(self, iter: iter):\n",
    "        self.batch_size = iter.batch_size\n",
    "        self.num_workers = 1\n",
    "        self.collate_fn = None\n",
    "        self.pin_memory = False\n",
    "        self.drop_last = False\n",
    "        self.timeout = 0\n",
    "        self.worker_init_fn = None\n",
    "        self.sampler = iter\n",
    "        self.batch_sampler = iter\n",
    "        self.__initialized__ = True\n",
    "\n",
    "    def __iter__(self):\n",
    "        return map(lambda batch: {\n",
    "                    'features': (batch.premise, batch.hypothesis),\n",
    "                    'targets': batch.label,\n",
    "                }, self.batch_sampler.__iter__())\n",
    "\n",
    "    def __len__(self):\n",
    "        return len(self.batch_sampler)"
   ]
  },
  {
   "cell_type": "code",
   "execution_count": 7,
   "metadata": {},
   "outputs": [],
   "source": [
    "# example of your hyperparameters \n",
    "# keep them as global vars or in the 'config' dict\n",
    "n_layers = 3\n",
    "h_size = 256\n",
    "embed_dim = 300\n",
    "num_epochs = 10 \n",
    "dropout = 0.1\n",
    "batch_size = 512 # BatchNorm do not work properly with small batch sizes\n",
    "vocab_size = len(TEXT.vocab)\n",
    "\n",
    "train_iter, valid_iter, test_iter = data.BucketIterator.splits((train, valid, test), batch_size=batch_size, device=DEVICE)\n",
    "train_iter = IteratorWrapper(train_iter)\n",
    "valid_iter = IteratorWrapper(valid_iter)\n",
    "test_iter = IteratorWrapper(test_iter)\n",
    " \n",
    "loaders = {'train': train_iter, 'valid': valid_iter}\n",
    "\n",
    "model = BiLstm(\n",
    "    vocab_size=vocab_size,\n",
    "    h_size=h_size,\n",
    "    n_layers=n_layers, \n",
    "    dropout=dropout,\n",
    "    padding_idx=TEXT.vocab.stoi[TEXT.pad_token]\n",
    ")\n",
    "optimizer = torch.optim.Adam(model.parameters(), lr=0.001)\n",
    "scheduler = torch.optim.lr_scheduler.ReduceLROnPlateau(optimizer, verbose=True, patience=2, factor=0.5)"
   ]
  },
  {
   "cell_type": "code",
   "execution_count": 8,
   "metadata": {},
   "outputs": [
    {
     "name": "stderr",
     "output_type": "stream",
     "text": [
      "wandb: WARNING Path /home/denis.litvinov/Documents/hse_practice/msaidov/logdir/wandb/ wasn't writable, using system temp directory\n",
      "wandb: WARNING Path /home/denis.litvinov/Documents/hse_practice/msaidov/logdir/wandb/ wasn't writable, using system temp directory\n",
      "wandb: WARNING Path /home/denis.litvinov/Documents/hse_practice/msaidov/logdir/wandb/ wasn't writable, using system temp directory\n",
      "wandb: WARNING Path /home/denis.litvinov/Documents/hse_practice/msaidov/logdir/wandb/ wasn't writable, using system temp directory\n",
      "wandb: WARNING Path /home/denis.litvinov/Documents/hse_practice/msaidov/logdir/wandb/ wasn't writable, using system temp directory\n",
      "wandb: WARNING Path /home/denis.litvinov/Documents/hse_practice/msaidov/logdir/wandb/ wasn't writable, using system temp directory\n"
     ]
    },
    {
     "data": {
      "text/html": [
       "\n",
       "                Logging results to <a href=\"https://wandb.com\" target=\"_blank\">Weights & Biases</a> <a href=\"https://docs.wandb.com/integrations/jupyter.html\" target=\"_blank\">(Documentation)</a>.<br/>\n",
       "                Project page: <a href=\"https://app.wandb.ai/denaas/text-augmentation\" target=\"_blank\">https://app.wandb.ai/denaas/text-augmentation</a><br/>\n",
       "                Run page: <a href=\"https://app.wandb.ai/denaas/text-augmentation/runs/yibs0k59\" target=\"_blank\">https://app.wandb.ai/denaas/text-augmentation/runs/yibs0k59</a><br/>\n",
       "            "
      ],
      "text/plain": [
       "<IPython.core.display.HTML object>"
      ]
     },
     "metadata": {},
     "output_type": "display_data"
    },
    {
     "name": "stderr",
     "output_type": "stream",
     "text": [
      "wandb: WARNING Path /home/denis.litvinov/Documents/hse_practice/msaidov/logdir/wandb/ wasn't writable, using system temp directory\n",
      "wandb: WARNING Path /home/denis.litvinov/Documents/hse_practice/msaidov/logdir/wandb/ wasn't writable, using system temp directory\n",
      "wandb: WARNING Path /home/denis.litvinov/Documents/hse_practice/msaidov/logdir/wandb/ wasn't writable, using system temp directory\n",
      "wandb: WARNING Path /home/denis.litvinov/Documents/hse_practice/msaidov/logdir/wandb/ wasn't writable, using system temp directory\n",
      "I0228 17:12:28.800946 140194564380480 run_manager.py:924] system metrics and metadata threads started\n",
      "I0228 17:12:28.802671 140194564380480 run_manager.py:933] checking resume status, waiting at most 10 seconds\n",
      "wandb: WARNING Path /home/denis.litvinov/Documents/hse_practice/msaidov/logdir/wandb/ wasn't writable, using system temp directory\n",
      "wandb: WARNING Path /home/denis.litvinov/Documents/hse_practice/msaidov/logdir/wandb/ wasn't writable, using system temp directory\n",
      "wandb: WARNING Path /home/denis.litvinov/Documents/hse_practice/msaidov/logdir/wandb/ wasn't writable, using system temp directory\n",
      "wandb: WARNING Path /home/denis.litvinov/Documents/hse_practice/msaidov/logdir/wandb/ wasn't writable, using system temp directory\n",
      "I0228 17:12:29.083444 140194564380480 run_manager.py:951] resuming run from id: UnVuOnYxOnlpYnMwazU5OnRleHQtYXVnbWVudGF0aW9uOmRlbmFhcw==\n",
      "I0228 17:12:29.102869 140194564380480 run_manager.py:963] upserting run before process can begin, waiting at most 10 seconds\n",
      "wandb: WARNING Path /home/denis.litvinov/Documents/hse_practice/msaidov/logdir/wandb/ wasn't writable, using system temp directory\n",
      "wandb: WARNING Path /home/denis.litvinov/Documents/hse_practice/msaidov/logdir/wandb/ wasn't writable, using system temp directory\n",
      "wandb: WARNING Path /home/denis.litvinov/Documents/hse_practice/msaidov/logdir/wandb/ wasn't writable, using system temp directory\n",
      "wandb: WARNING Path /home/denis.litvinov/Documents/hse_practice/msaidov/logdir/wandb/ wasn't writable, using system temp directory\n",
      "I0228 17:12:29.371443 140189796128512 run_manager.py:1048] saving patches\n",
      "I0228 17:12:29.463208 140190032566016 run_manager.py:688] file/dir modified: /tmp/wandb/run-20200228_141228-yibs0k59/config.yaml\n",
      "I0228 17:12:29.636096 140189796128512 run_manager.py:1052] saving pip packages\n",
      "I0228 17:12:29.637627 140189796128512 run_manager.py:1054] initializing streaming files api\n",
      "I0228 17:12:29.638584 140189796128512 run_manager.py:1061] unblocking file change observer, beginning sync with W&B servers\n",
      "wandb: WARNING Path /home/denis.litvinov/Documents/hse_practice/msaidov/logdir/wandb/ wasn't writable, using system temp directory\n",
      "wandb: WARNING Path /home/denis.litvinov/Documents/hse_practice/msaidov/logdir/wandb/ wasn't writable, using system temp directory\n",
      "wandb: WARNING Path /home/denis.litvinov/Documents/hse_practice/msaidov/logdir/wandb/ wasn't writable, using system temp directory\n",
      "wandb: WARNING Path /home/denis.litvinov/Documents/hse_practice/msaidov/logdir/wandb/ wasn't writable, using system temp directory\n",
      "I0228 17:12:29.904224 140190032566016 run_manager.py:677] file/dir created: /tmp/wandb/run-20200228_141228-yibs0k59/wandb-metadata.json\n",
      "I0228 17:12:29.905191 140190032566016 run_manager.py:677] file/dir created: /tmp/wandb/run-20200228_141228-yibs0k59/wandb-history.jsonl\n",
      "I0228 17:12:29.906216 140190032566016 run_manager.py:677] file/dir created: /tmp/wandb/run-20200228_141228-yibs0k59/wandb-summary.json\n",
      "I0228 17:12:29.907526 140190032566016 run_manager.py:677] file/dir created: /tmp/wandb/run-20200228_141228-yibs0k59/wandb-events.jsonl\n",
      "I0228 17:12:30.462671 140190032566016 run_manager.py:677] file/dir created: /tmp/wandb/run-20200228_141228-yibs0k59/requirements.txt\n",
      "I0228 17:12:30.463452 140190032566016 run_manager.py:677] file/dir created: /tmp/wandb/run-20200228_141228-yibs0k59/diff.patch\n"
     ]
    },
    {
     "name": "stdout",
     "output_type": "stream",
     "text": [
      "1/10 * Epoch (train):  12% 134/1073 [00:14<01:32, 10.16it/s, accuracy01=63.477, loss=0.806]"
     ]
    },
    {
     "name": "stderr",
     "output_type": "stream",
     "text": [
      "I0228 17:12:45.583782 140190032566016 run_manager.py:688] file/dir modified: /tmp/wandb/run-20200228_141228-yibs0k59/wandb-metadata.json\n"
     ]
    },
    {
     "name": "stdout",
     "output_type": "stream",
     "text": [
      "1/10 * Epoch (train):  24% 256/1073 [00:26<01:19, 10.24it/s, accuracy01=64.062, loss=0.781]"
     ]
    },
    {
     "name": "stderr",
     "output_type": "stream",
     "text": [
      "I0228 17:12:57.588918 140190032566016 run_manager.py:688] file/dir modified: /tmp/wandb/run-20200228_141228-yibs0k59/wandb-events.jsonl\n"
     ]
    },
    {
     "name": "stdout",
     "output_type": "stream",
     "text": [
      "1/10 * Epoch (train):  28% 297/1073 [00:30<01:13, 10.63it/s, accuracy01=62.500, loss=0.825]"
     ]
    },
    {
     "name": "stderr",
     "output_type": "stream",
     "text": [
      "I0228 17:13:01.589857 140190032566016 run_manager.py:688] file/dir modified: /tmp/wandb/run-20200228_141228-yibs0k59/wandb-metadata.json\n"
     ]
    },
    {
     "name": "stdout",
     "output_type": "stream",
     "text": [
      "1/10 * Epoch (train):  43% 465/1073 [00:46<00:57, 10.52it/s, accuracy01=68.555, loss=0.726]"
     ]
    },
    {
     "name": "stderr",
     "output_type": "stream",
     "text": [
      "I0228 17:13:17.597846 140190032566016 run_manager.py:688] file/dir modified: /tmp/wandb/run-20200228_141228-yibs0k59/wandb-metadata.json\n"
     ]
    },
    {
     "name": "stdout",
     "output_type": "stream",
     "text": [
      "1/10 * Epoch (train):  53% 570/1073 [00:56<00:51,  9.72it/s, accuracy01=70.898, loss=0.682]"
     ]
    },
    {
     "name": "stderr",
     "output_type": "stream",
     "text": [
      "I0228 17:13:27.604920 140190032566016 run_manager.py:688] file/dir modified: /tmp/wandb/run-20200228_141228-yibs0k59/wandb-events.jsonl\n"
     ]
    },
    {
     "name": "stdout",
     "output_type": "stream",
     "text": [
      "1/10 * Epoch (train):  59% 631/1073 [01:02<00:41, 10.53it/s, accuracy01=66.602, loss=0.733]"
     ]
    },
    {
     "name": "stderr",
     "output_type": "stream",
     "text": [
      "I0228 17:13:33.606339 140190032566016 run_manager.py:688] file/dir modified: /tmp/wandb/run-20200228_141228-yibs0k59/wandb-metadata.json\n"
     ]
    },
    {
     "name": "stdout",
     "output_type": "stream",
     "text": [
      "1/10 * Epoch (train):  73% 788/1073 [01:18<00:26, 10.76it/s, accuracy01=69.141, loss=0.713]"
     ]
    },
    {
     "name": "stderr",
     "output_type": "stream",
     "text": [
      "I0228 17:13:49.813173 140190032566016 run_manager.py:688] file/dir modified: /tmp/wandb/run-20200228_141228-yibs0k59/wandb-metadata.json\n"
     ]
    },
    {
     "name": "stdout",
     "output_type": "stream",
     "text": [
      "1/10 * Epoch (train):  82% 884/1073 [01:27<00:17, 10.55it/s, accuracy01=68.555, loss=0.716]"
     ]
    },
    {
     "name": "stderr",
     "output_type": "stream",
     "text": [
      "I0228 17:13:58.843419 140190032566016 run_manager.py:688] file/dir modified: /tmp/wandb/run-20200228_141228-yibs0k59/wandb-events.jsonl\n"
     ]
    },
    {
     "name": "stdout",
     "output_type": "stream",
     "text": [
      "1/10 * Epoch (train):  89% 958/1073 [01:34<00:10, 10.48it/s, accuracy01=68.555, loss=0.754]"
     ]
    },
    {
     "name": "stderr",
     "output_type": "stream",
     "text": [
      "I0228 17:14:05.852324 140190032566016 run_manager.py:688] file/dir modified: /tmp/wandb/run-20200228_141228-yibs0k59/wandb-metadata.json\n"
     ]
    },
    {
     "name": "stdout",
     "output_type": "stream",
     "text": [
      "1/10 * Epoch (train): 100% 1073/1073 [01:45<00:00, 10.17it/s, accuracy01=68.555, loss=0.738]\n",
      "1/10 * Epoch (valid): 100% 20/20 [00:00<00:00, 31.84it/s, accuracy01=61.404, loss=0.882]\n",
      "[2020-02-28 17:14:17,815] \n",
      "1/10 * Epoch 1 (train): _base/lr=0.0010 | _base/momentum=0.9000 | _timers/_fps=20109.1943 | _timers/batch_time=0.0272 | _timers/data_time=0.0094 | _timers/model_time=0.0178 | accuracy01=66.0539 | loss=0.7718\n",
      "1/10 * Epoch 1 (valid): _base/lr=0.0010 | _base/momentum=0.9000 | _timers/_fps=28874.9390 | _timers/batch_time=0.0200 | _timers/data_time=0.0067 | _timers/model_time=0.0133 | accuracy01=70.8631 | loss=0.6861\n"
     ]
    },
    {
     "name": "stderr",
     "output_type": "stream",
     "text": [
      "I0228 17:14:17.815683 140194564380480 logging.py:153] \n",
      "1/10 * Epoch 1 (train): _base/lr=0.0010 | _base/momentum=0.9000 | _timers/_fps=20109.1943 | _timers/batch_time=0.0272 | _timers/data_time=0.0094 | _timers/model_time=0.0178 | accuracy01=66.0539 | loss=0.7718\n",
      "1/10 * Epoch 1 (valid): _base/lr=0.0010 | _base/momentum=0.9000 | _timers/_fps=28874.9390 | _timers/batch_time=0.0200 | _timers/data_time=0.0067 | _timers/model_time=0.0133 | accuracy01=70.8631 | loss=0.6861\n"
     ]
    },
    {
     "name": "stdout",
     "output_type": "stream",
     "text": [
      "2/10 * Epoch (train):   0% 0/1073 [00:00<?, ?it/s]"
     ]
    },
    {
     "name": "stderr",
     "output_type": "stream",
     "text": [
      "I0228 17:14:17.983097 140190032566016 run_manager.py:688] file/dir modified: /tmp/wandb/run-20200228_141228-yibs0k59/wandb-history.jsonl\n",
      "I0228 17:14:18.037592 140190032566016 run_manager.py:688] file/dir modified: /tmp/wandb/run-20200228_141228-yibs0k59/wandb-summary.json\n"
     ]
    },
    {
     "name": "stdout",
     "output_type": "stream",
     "text": [
      "2/10 * Epoch (train):   2% 26/1073 [00:03<01:44,  9.98it/s, accuracy01=73.828, loss=0.623]"
     ]
    },
    {
     "name": "stderr",
     "output_type": "stream",
     "text": [
      "I0228 17:14:20.973691 140190032566016 run_manager.py:688] file/dir modified: /tmp/wandb/run-20200228_141228-yibs0k59/wandb-metadata.json\n"
     ]
    },
    {
     "name": "stdout",
     "output_type": "stream",
     "text": [
      "2/10 * Epoch (train):  10% 110/1073 [00:11<01:35, 10.12it/s, accuracy01=73.242, loss=0.646]"
     ]
    },
    {
     "name": "stderr",
     "output_type": "stream",
     "text": [
      "I0228 17:14:28.989099 140190032566016 run_manager.py:688] file/dir modified: /tmp/wandb/run-20200228_141228-yibs0k59/wandb-events.jsonl\n"
     ]
    },
    {
     "name": "stdout",
     "output_type": "stream",
     "text": [
      "2/10 * Epoch (train):  18% 194/1073 [00:19<01:23, 10.58it/s, accuracy01=74.414, loss=0.652]"
     ]
    },
    {
     "name": "stderr",
     "output_type": "stream",
     "text": [
      "I0228 17:14:36.995661 140190032566016 run_manager.py:688] file/dir modified: /tmp/wandb/run-20200228_141228-yibs0k59/wandb-metadata.json\n"
     ]
    },
    {
     "name": "stdout",
     "output_type": "stream",
     "text": [
      "2/10 * Epoch (train):  34% 362/1073 [00:35<01:08, 10.40it/s, accuracy01=71.484, loss=0.680]"
     ]
    },
    {
     "name": "stderr",
     "output_type": "stream",
     "text": [
      "I0228 17:14:53.002745 140190032566016 run_manager.py:688] file/dir modified: /tmp/wandb/run-20200228_141228-yibs0k59/wandb-metadata.json\n"
     ]
    },
    {
     "name": "stdout",
     "output_type": "stream",
     "text": [
      "2/10 * Epoch (train):  40% 425/1073 [00:41<01:02, 10.32it/s, accuracy01=73.242, loss=0.661]"
     ]
    },
    {
     "name": "stderr",
     "output_type": "stream",
     "text": [
      "I0228 17:14:59.009592 140190032566016 run_manager.py:688] file/dir modified: /tmp/wandb/run-20200228_141228-yibs0k59/wandb-events.jsonl\n"
     ]
    },
    {
     "name": "stdout",
     "output_type": "stream",
     "text": [
      "2/10 * Epoch (train):  49% 531/1073 [00:51<00:49, 10.85it/s, accuracy01=75.000, loss=0.637]"
     ]
    },
    {
     "name": "stderr",
     "output_type": "stream",
     "text": [
      "I0228 17:15:09.024363 140190032566016 run_manager.py:688] file/dir modified: /tmp/wandb/run-20200228_141228-yibs0k59/wandb-metadata.json\n"
     ]
    },
    {
     "name": "stdout",
     "output_type": "stream",
     "text": [
      "2/10 * Epoch (train):  65% 699/1073 [01:07<00:35, 10.62it/s, accuracy01=76.172, loss=0.582]"
     ]
    },
    {
     "name": "stderr",
     "output_type": "stream",
     "text": [
      "I0228 17:15:25.039211 140190032566016 run_manager.py:688] file/dir modified: /tmp/wandb/run-20200228_141228-yibs0k59/wandb-metadata.json\n"
     ]
    },
    {
     "name": "stdout",
     "output_type": "stream",
     "text": [
      "2/10 * Epoch (train):  69% 741/1073 [01:11<00:30, 10.72it/s, accuracy01=68.359, loss=0.760]"
     ]
    },
    {
     "name": "stderr",
     "output_type": "stream",
     "text": [
      "I0228 17:15:29.037690 140190032566016 run_manager.py:688] file/dir modified: /tmp/wandb/run-20200228_141228-yibs0k59/wandb-events.jsonl\n"
     ]
    },
    {
     "name": "stdout",
     "output_type": "stream",
     "text": [
      "2/10 * Epoch (train):  81% 868/1073 [01:23<00:19, 10.49it/s, accuracy01=72.266, loss=0.652]"
     ]
    },
    {
     "name": "stderr",
     "output_type": "stream",
     "text": [
      "I0228 17:15:41.048166 140190032566016 run_manager.py:688] file/dir modified: /tmp/wandb/run-20200228_141228-yibs0k59/wandb-metadata.json\n"
     ]
    },
    {
     "name": "stdout",
     "output_type": "stream",
     "text": [
      "2/10 * Epoch (train):  96% 1035/1073 [01:39<00:04,  9.34it/s, accuracy01=77.930, loss=0.569]"
     ]
    },
    {
     "name": "stderr",
     "output_type": "stream",
     "text": [
      "I0228 17:15:57.060716 140190032566016 run_manager.py:688] file/dir modified: /tmp/wandb/run-20200228_141228-yibs0k59/wandb-metadata.json\n"
     ]
    },
    {
     "name": "stdout",
     "output_type": "stream",
     "text": [
      "2/10 * Epoch (train):  98% 1054/1073 [01:41<00:02,  9.32it/s, accuracy01=73.828, loss=0.617]"
     ]
    },
    {
     "name": "stderr",
     "output_type": "stream",
     "text": [
      "I0228 17:15:59.061209 140190032566016 run_manager.py:688] file/dir modified: /tmp/wandb/run-20200228_141228-yibs0k59/wandb-events.jsonl\n"
     ]
    },
    {
     "name": "stdout",
     "output_type": "stream",
     "text": [
      "2/10 * Epoch (train): 100% 1073/1073 [01:43<00:00, 10.41it/s, accuracy01=72.070, loss=0.654]\n",
      "2/10 * Epoch (valid): 100% 20/20 [00:00<00:00, 32.33it/s, accuracy01=61.404, loss=0.823]\n",
      "[2020-02-28 17:16:02,010] \n",
      "2/10 * Epoch 2 (train): _base/lr=0.0010 | _base/momentum=0.9000 | _timers/_fps=20375.6473 | _timers/batch_time=0.0259 | _timers/data_time=0.0083 | _timers/model_time=0.0176 | accuracy01=73.3775 | loss=0.6397\n",
      "2/10 * Epoch 2 (valid): _base/lr=0.0010 | _base/momentum=0.9000 | _timers/_fps=29416.5236 | _timers/batch_time=0.0197 | _timers/data_time=0.0066 | _timers/model_time=0.0131 | accuracy01=73.7147 | loss=0.6363\n"
     ]
    },
    {
     "name": "stderr",
     "output_type": "stream",
     "text": [
      "I0228 17:16:02.010006 140194564380480 logging.py:153] \n",
      "2/10 * Epoch 2 (train): _base/lr=0.0010 | _base/momentum=0.9000 | _timers/_fps=20375.6473 | _timers/batch_time=0.0259 | _timers/data_time=0.0083 | _timers/model_time=0.0176 | accuracy01=73.3775 | loss=0.6397\n",
      "2/10 * Epoch 2 (valid): _base/lr=0.0010 | _base/momentum=0.9000 | _timers/_fps=29416.5236 | _timers/batch_time=0.0197 | _timers/data_time=0.0066 | _timers/model_time=0.0131 | accuracy01=73.7147 | loss=0.6363\n"
     ]
    },
    {
     "name": "stdout",
     "output_type": "stream",
     "text": [
      "3/10 * Epoch (train):   0% 0/1073 [00:00<?, ?it/s]"
     ]
    },
    {
     "name": "stderr",
     "output_type": "stream",
     "text": [
      "I0228 17:16:02.100095 140190032566016 run_manager.py:688] file/dir modified: /tmp/wandb/run-20200228_141228-yibs0k59/wandb-history.jsonl\n",
      "I0228 17:16:02.136683 140190032566016 run_manager.py:688] file/dir modified: /tmp/wandb/run-20200228_141228-yibs0k59/wandb-summary.json\n"
     ]
    },
    {
     "name": "stdout",
     "output_type": "stream",
     "text": [
      "3/10 * Epoch (train):  10% 103/1073 [00:11<01:36, 10.00it/s, accuracy01=77.539, loss=0.587]"
     ]
    },
    {
     "name": "stderr",
     "output_type": "stream",
     "text": [
      "I0228 17:16:13.101750 140190032566016 run_manager.py:688] file/dir modified: /tmp/wandb/run-20200228_141228-yibs0k59/wandb-metadata.json\n"
     ]
    },
    {
     "name": "stdout",
     "output_type": "stream",
     "text": [
      "3/10 * Epoch (train):  25% 263/1073 [00:27<01:23,  9.73it/s, accuracy01=77.734, loss=0.574]"
     ]
    },
    {
     "name": "stderr",
     "output_type": "stream",
     "text": [
      "I0228 17:16:29.110742 140190032566016 run_manager.py:688] file/dir modified: /tmp/wandb/run-20200228_141228-yibs0k59/wandb-metadata.json\n",
      "I0228 17:16:29.111454 140190032566016 run_manager.py:688] file/dir modified: /tmp/wandb/run-20200228_141228-yibs0k59/wandb-events.jsonl\n"
     ]
    },
    {
     "name": "stdout",
     "output_type": "stream",
     "text": [
      "3/10 * Epoch (train):  39% 421/1073 [00:43<01:06,  9.77it/s, accuracy01=77.148, loss=0.543]"
     ]
    },
    {
     "name": "stderr",
     "output_type": "stream",
     "text": [
      "I0228 17:16:45.114847 140190032566016 run_manager.py:688] file/dir modified: /tmp/wandb/run-20200228_141228-yibs0k59/wandb-metadata.json\n"
     ]
    },
    {
     "name": "stdout",
     "output_type": "stream",
     "text": [
      "3/10 * Epoch (train):  53% 570/1073 [00:58<00:49, 10.08it/s, accuracy01=77.930, loss=0.544]"
     ]
    },
    {
     "name": "stderr",
     "output_type": "stream",
     "text": [
      "I0228 17:17:00.126440 140190032566016 run_manager.py:688] file/dir modified: /tmp/wandb/run-20200228_141228-yibs0k59/wandb-events.jsonl\n"
     ]
    },
    {
     "name": "stdout",
     "output_type": "stream",
     "text": [
      "3/10 * Epoch (train):  54% 579/1073 [00:59<00:55,  8.89it/s, accuracy01=77.734, loss=0.546]"
     ]
    },
    {
     "name": "stderr",
     "output_type": "stream",
     "text": [
      "I0228 17:17:01.126713 140190032566016 run_manager.py:688] file/dir modified: /tmp/wandb/run-20200228_141228-yibs0k59/wandb-metadata.json\n"
     ]
    },
    {
     "name": "stdout",
     "output_type": "stream",
     "text": [
      "3/10 * Epoch (train):  68% 734/1073 [01:15<00:34,  9.92it/s, accuracy01=76.367, loss=0.551]"
     ]
    },
    {
     "name": "stderr",
     "output_type": "stream",
     "text": [
      "I0228 17:17:17.136434 140190032566016 run_manager.py:688] file/dir modified: /tmp/wandb/run-20200228_141228-yibs0k59/wandb-metadata.json\n"
     ]
    },
    {
     "name": "stdout",
     "output_type": "stream",
     "text": [
      "3/10 * Epoch (train):  80% 861/1073 [01:28<00:22,  9.59it/s, accuracy01=79.102, loss=0.520]"
     ]
    },
    {
     "name": "stderr",
     "output_type": "stream",
     "text": [
      "I0228 17:17:30.145186 140190032566016 run_manager.py:688] file/dir modified: /tmp/wandb/run-20200228_141228-yibs0k59/wandb-events.jsonl\n"
     ]
    },
    {
     "name": "stdout",
     "output_type": "stream",
     "text": [
      "3/10 * Epoch (train):  83% 891/1073 [01:31<00:18,  9.95it/s, accuracy01=74.414, loss=0.593]"
     ]
    },
    {
     "name": "stderr",
     "output_type": "stream",
     "text": [
      "I0228 17:17:33.145896 140190032566016 run_manager.py:688] file/dir modified: /tmp/wandb/run-20200228_141228-yibs0k59/wandb-metadata.json\n"
     ]
    },
    {
     "name": "stdout",
     "output_type": "stream",
     "text": [
      "3/10 * Epoch (train):  97% 1042/1073 [01:47<00:03,  8.99it/s, accuracy01=76.562, loss=0.593]"
     ]
    },
    {
     "name": "stderr",
     "output_type": "stream",
     "text": [
      "I0228 17:17:49.151357 140190032566016 run_manager.py:688] file/dir modified: /tmp/wandb/run-20200228_141228-yibs0k59/wandb-metadata.json\n"
     ]
    },
    {
     "name": "stdout",
     "output_type": "stream",
     "text": [
      "3/10 * Epoch (train): 100% 1073/1073 [01:50<00:00,  9.71it/s, accuracy01=79.883, loss=0.531]\n",
      "3/10 * Epoch (valid): 100% 20/20 [00:00<00:00, 27.10it/s, accuracy01=65.789, loss=0.775]\n",
      "[2020-02-28 17:17:53,813] \n",
      "3/10 * Epoch 3 (train): _base/lr=0.0010 | _base/momentum=0.9000 | _timers/_fps=19293.8445 | _timers/batch_time=0.0274 | _timers/data_time=0.0089 | _timers/model_time=0.0185 | accuracy01=76.8128 | loss=0.5698\n",
      "3/10 * Epoch 3 (valid): _base/lr=0.0010 | _base/momentum=0.9000 | _timers/_fps=24915.5615 | _timers/batch_time=0.0234 | _timers/data_time=0.0071 | _timers/model_time=0.0162 | accuracy01=76.0727 | loss=0.5847\n"
     ]
    },
    {
     "name": "stderr",
     "output_type": "stream",
     "text": [
      "I0228 17:17:53.813721 140194564380480 logging.py:153] \n",
      "3/10 * Epoch 3 (train): _base/lr=0.0010 | _base/momentum=0.9000 | _timers/_fps=19293.8445 | _timers/batch_time=0.0274 | _timers/data_time=0.0089 | _timers/model_time=0.0185 | accuracy01=76.8128 | loss=0.5698\n",
      "3/10 * Epoch 3 (valid): _base/lr=0.0010 | _base/momentum=0.9000 | _timers/_fps=24915.5615 | _timers/batch_time=0.0234 | _timers/data_time=0.0071 | _timers/model_time=0.0162 | accuracy01=76.0727 | loss=0.5847\n"
     ]
    },
    {
     "name": "stdout",
     "output_type": "stream",
     "text": [
      "4/10 * Epoch (train):   0% 0/1073 [00:00<?, ?it/s]"
     ]
    },
    {
     "name": "stderr",
     "output_type": "stream",
     "text": [
      "I0228 17:17:54.234331 140190032566016 run_manager.py:688] file/dir modified: /tmp/wandb/run-20200228_141228-yibs0k59/wandb-history.jsonl\n",
      "I0228 17:17:54.260765 140190032566016 run_manager.py:688] file/dir modified: /tmp/wandb/run-20200228_141228-yibs0k59/wandb-summary.json\n"
     ]
    },
    {
     "name": "stdout",
     "output_type": "stream",
     "text": [
      "4/10 * Epoch (train):   5% 58/1073 [00:06<01:44,  9.71it/s, accuracy01=80.664, loss=0.520]"
     ]
    },
    {
     "name": "stderr",
     "output_type": "stream",
     "text": [
      "I0228 17:18:00.235738 140190032566016 run_manager.py:688] file/dir modified: /tmp/wandb/run-20200228_141228-yibs0k59/wandb-events.jsonl\n"
     ]
    },
    {
     "name": "stdout",
     "output_type": "stream",
     "text": [
      "4/10 * Epoch (train):  10% 105/1073 [00:11<01:38,  9.82it/s, accuracy01=80.273, loss=0.502]"
     ]
    },
    {
     "name": "stderr",
     "output_type": "stream",
     "text": [
      "I0228 17:18:05.236879 140190032566016 run_manager.py:688] file/dir modified: /tmp/wandb/run-20200228_141228-yibs0k59/wandb-metadata.json\n"
     ]
    },
    {
     "name": "stdout",
     "output_type": "stream",
     "text": [
      "4/10 * Epoch (train):  25% 264/1073 [00:27<01:22,  9.79it/s, accuracy01=79.688, loss=0.492]"
     ]
    },
    {
     "name": "stderr",
     "output_type": "stream",
     "text": [
      "I0228 17:18:21.243582 140190032566016 run_manager.py:688] file/dir modified: /tmp/wandb/run-20200228_141228-yibs0k59/wandb-metadata.json\n"
     ]
    },
    {
     "name": "stdout",
     "output_type": "stream",
     "text": [
      "4/10 * Epoch (train):  33% 356/1073 [00:36<01:08, 10.42it/s, accuracy01=78.516, loss=0.536]"
     ]
    },
    {
     "name": "stderr",
     "output_type": "stream",
     "text": [
      "I0228 17:18:30.249380 140190032566016 run_manager.py:688] file/dir modified: /tmp/wandb/run-20200228_141228-yibs0k59/wandb-events.jsonl\n"
     ]
    },
    {
     "name": "stdout",
     "output_type": "stream",
     "text": [
      "4/10 * Epoch (train):  40% 427/1073 [00:43<01:07,  9.55it/s, accuracy01=79.688, loss=0.508]"
     ]
    },
    {
     "name": "stderr",
     "output_type": "stream",
     "text": [
      "I0228 17:18:37.251061 140190032566016 run_manager.py:688] file/dir modified: /tmp/wandb/run-20200228_141228-yibs0k59/wandb-metadata.json\n"
     ]
    },
    {
     "name": "stdout",
     "output_type": "stream",
     "text": [
      "4/10 * Epoch (train):  55% 588/1073 [00:59<00:49,  9.72it/s, accuracy01=76.953, loss=0.540]"
     ]
    },
    {
     "name": "stderr",
     "output_type": "stream",
     "text": [
      "I0228 17:18:53.255901 140190032566016 run_manager.py:688] file/dir modified: /tmp/wandb/run-20200228_141228-yibs0k59/wandb-metadata.json\n"
     ]
    },
    {
     "name": "stdout",
     "output_type": "stream",
     "text": [
      "4/10 * Epoch (train):  61% 656/1073 [01:06<00:43,  9.69it/s, accuracy01=81.055, loss=0.473]"
     ]
    },
    {
     "name": "stderr",
     "output_type": "stream",
     "text": [
      "I0228 17:19:00.259274 140190032566016 run_manager.py:688] file/dir modified: /tmp/wandb/run-20200228_141228-yibs0k59/wandb-events.jsonl\n"
     ]
    },
    {
     "name": "stdout",
     "output_type": "stream",
     "text": [
      "4/10 * Epoch (train):  69% 744/1073 [01:15<00:32,  9.99it/s, accuracy01=80.859, loss=0.505]"
     ]
    },
    {
     "name": "stderr",
     "output_type": "stream",
     "text": [
      "I0228 17:19:09.261322 140190032566016 run_manager.py:688] file/dir modified: /tmp/wandb/run-20200228_141228-yibs0k59/wandb-metadata.json\n"
     ]
    },
    {
     "name": "stdout",
     "output_type": "stream",
     "text": [
      "4/10 * Epoch (train):  85% 907/1073 [01:31<00:17,  9.36it/s, accuracy01=77.930, loss=0.528]"
     ]
    },
    {
     "name": "stderr",
     "output_type": "stream",
     "text": [
      "I0228 17:19:25.276122 140190032566016 run_manager.py:688] file/dir modified: /tmp/wandb/run-20200228_141228-yibs0k59/wandb-metadata.json\n"
     ]
    },
    {
     "name": "stdout",
     "output_type": "stream",
     "text": [
      "4/10 * Epoch (train):  89% 959/1073 [01:36<00:10, 10.41it/s, accuracy01=75.977, loss=0.567]"
     ]
    },
    {
     "name": "stderr",
     "output_type": "stream",
     "text": [
      "I0228 17:19:30.277408 140190032566016 run_manager.py:688] file/dir modified: /tmp/wandb/run-20200228_141228-yibs0k59/wandb-events.jsonl\n"
     ]
    },
    {
     "name": "stdout",
     "output_type": "stream",
     "text": [
      "4/10 * Epoch (train): 100% 1073/1073 [01:47<00:00,  9.96it/s, accuracy01=79.102, loss=0.517]\n",
      "4/10 * Epoch (valid): 100% 20/20 [00:00<00:00, 29.77it/s, accuracy01=62.281, loss=0.841]\n"
     ]
    },
    {
     "name": "stderr",
     "output_type": "stream",
     "text": [
      "I0228 17:19:42.300689 140190032566016 run_manager.py:688] file/dir modified: /tmp/wandb/run-20200228_141228-yibs0k59/wandb-metadata.json\n",
      "I0228 17:19:42.301342 140190032566016 run_manager.py:688] file/dir modified: /tmp/wandb/run-20200228_141228-yibs0k59/wandb-history.jsonl\n",
      "I0228 17:19:42.301965 140190032566016 run_manager.py:688] file/dir modified: /tmp/wandb/run-20200228_141228-yibs0k59/wandb-summary.json\n"
     ]
    },
    {
     "name": "stdout",
     "output_type": "stream",
     "text": [
      "[2020-02-28 17:19:42,713] \n",
      "4/10 * Epoch 4 (train): _base/lr=0.0010 | _base/momentum=0.9000 | _timers/_fps=19948.7587 | _timers/batch_time=0.0265 | _timers/data_time=0.0085 | _timers/model_time=0.0180 | accuracy01=79.3899 | loss=0.5152\n",
      "4/10 * Epoch 4 (valid): _base/lr=0.0010 | _base/momentum=0.9000 | _timers/_fps=27178.3762 | _timers/batch_time=0.0214 | _timers/data_time=0.0072 | _timers/model_time=0.0141 | accuracy01=76.9129 | loss=0.5795\n"
     ]
    },
    {
     "name": "stderr",
     "output_type": "stream",
     "text": [
      "I0228 17:19:42.713517 140194564380480 logging.py:153] \n",
      "4/10 * Epoch 4 (train): _base/lr=0.0010 | _base/momentum=0.9000 | _timers/_fps=19948.7587 | _timers/batch_time=0.0265 | _timers/data_time=0.0085 | _timers/model_time=0.0180 | accuracy01=79.3899 | loss=0.5152\n",
      "4/10 * Epoch 4 (valid): _base/lr=0.0010 | _base/momentum=0.9000 | _timers/_fps=27178.3762 | _timers/batch_time=0.0214 | _timers/data_time=0.0072 | _timers/model_time=0.0141 | accuracy01=76.9129 | loss=0.5795\n"
     ]
    },
    {
     "name": "stdout",
     "output_type": "stream",
     "text": [
      "5/10 * Epoch (train):  14% 149/1073 [00:15<01:31, 10.14it/s, accuracy01=81.641, loss=0.482]"
     ]
    },
    {
     "name": "stderr",
     "output_type": "stream",
     "text": [
      "I0228 17:19:58.304322 140190032566016 run_manager.py:688] file/dir modified: /tmp/wandb/run-20200228_141228-yibs0k59/wandb-metadata.json\n"
     ]
    },
    {
     "name": "stdout",
     "output_type": "stream",
     "text": [
      "5/10 * Epoch (train):  16% 171/1073 [00:17<01:28, 10.21it/s, accuracy01=81.055, loss=0.468]"
     ]
    },
    {
     "name": "stderr",
     "output_type": "stream",
     "text": [
      "I0228 17:20:00.304783 140190032566016 run_manager.py:688] file/dir modified: /tmp/wandb/run-20200228_141228-yibs0k59/wandb-events.jsonl\n"
     ]
    },
    {
     "name": "stdout",
     "output_type": "stream",
     "text": [
      "5/10 * Epoch (train):  29% 308/1073 [00:31<01:16, 10.02it/s, accuracy01=84.375, loss=0.430]"
     ]
    },
    {
     "name": "stderr",
     "output_type": "stream",
     "text": [
      "I0228 17:20:14.308064 140190032566016 run_manager.py:688] file/dir modified: /tmp/wandb/run-20200228_141228-yibs0k59/wandb-metadata.json\n"
     ]
    },
    {
     "name": "stdout",
     "output_type": "stream",
     "text": [
      "5/10 * Epoch (train):  43% 466/1073 [00:47<01:01,  9.88it/s, accuracy01=81.445, loss=0.428]"
     ]
    },
    {
     "name": "stderr",
     "output_type": "stream",
     "text": [
      "I0228 17:20:30.311573 140190032566016 run_manager.py:688] file/dir modified: /tmp/wandb/run-20200228_141228-yibs0k59/wandb-metadata.json\n"
     ]
    },
    {
     "name": "stdout",
     "output_type": "stream",
     "text": [
      "5/10 * Epoch (train):  44% 475/1073 [00:48<01:02,  9.64it/s, accuracy01=82.617, loss=0.471]"
     ]
    },
    {
     "name": "stderr",
     "output_type": "stream",
     "text": [
      "I0228 17:20:31.311812 140190032566016 run_manager.py:688] file/dir modified: /tmp/wandb/run-20200228_141228-yibs0k59/wandb-events.jsonl\n"
     ]
    },
    {
     "name": "stdout",
     "output_type": "stream",
     "text": [
      "5/10 * Epoch (train):  58% 620/1073 [01:03<00:45,  9.89it/s, accuracy01=82.031, loss=0.460]"
     ]
    },
    {
     "name": "stderr",
     "output_type": "stream",
     "text": [
      "I0228 17:20:46.323152 140190032566016 run_manager.py:688] file/dir modified: /tmp/wandb/run-20200228_141228-yibs0k59/wandb-metadata.json\n"
     ]
    },
    {
     "name": "stdout",
     "output_type": "stream",
     "text": [
      "5/10 * Epoch (train):  71% 765/1073 [01:18<00:31,  9.86it/s, accuracy01=81.250, loss=0.469]"
     ]
    },
    {
     "name": "stderr",
     "output_type": "stream",
     "text": [
      "I0228 17:21:01.326587 140190032566016 run_manager.py:688] file/dir modified: /tmp/wandb/run-20200228_141228-yibs0k59/wandb-events.jsonl\n"
     ]
    },
    {
     "name": "stdout",
     "output_type": "stream",
     "text": [
      "5/10 * Epoch (train):  72% 775/1073 [01:19<00:29,  9.96it/s, accuracy01=83.594, loss=0.455]"
     ]
    },
    {
     "name": "stderr",
     "output_type": "stream",
     "text": [
      "I0228 17:21:02.326821 140190032566016 run_manager.py:688] file/dir modified: /tmp/wandb/run-20200228_141228-yibs0k59/wandb-metadata.json\n"
     ]
    },
    {
     "name": "stdout",
     "output_type": "stream",
     "text": [
      "5/10 * Epoch (train):  87% 930/1073 [01:35<00:14, 10.16it/s, accuracy01=82.031, loss=0.430]"
     ]
    },
    {
     "name": "stderr",
     "output_type": "stream",
     "text": [
      "I0228 17:21:18.330989 140190032566016 run_manager.py:688] file/dir modified: /tmp/wandb/run-20200228_141228-yibs0k59/wandb-metadata.json\n"
     ]
    },
    {
     "name": "stdout",
     "output_type": "stream",
     "text": [
      "5/10 * Epoch (train):  99% 1058/1073 [01:49<00:01,  9.56it/s, accuracy01=81.641, loss=0.454]"
     ]
    },
    {
     "name": "stderr",
     "output_type": "stream",
     "text": [
      "I0228 17:21:32.085757 140190032566016 run_manager.py:688] file/dir modified: /tmp/wandb/run-20200228_141228-yibs0k59/wandb-events.jsonl\n"
     ]
    },
    {
     "name": "stdout",
     "output_type": "stream",
     "text": [
      "5/10 * Epoch (train): 100% 1073/1073 [01:50<00:00,  9.70it/s, accuracy01=81.445, loss=0.438]\n",
      "5/10 * Epoch (valid): 100% 20/20 [00:00<00:00, 29.78it/s, accuracy01=69.298, loss=0.706]\n"
     ]
    },
    {
     "name": "stderr",
     "output_type": "stream",
     "text": [
      "I0228 17:21:34.112629 140190032566016 run_manager.py:688] file/dir modified: /tmp/wandb/run-20200228_141228-yibs0k59/wandb-metadata.json\n",
      "I0228 17:21:34.156511 140190032566016 run_manager.py:688] file/dir modified: /tmp/wandb/run-20200228_141228-yibs0k59/wandb-history.jsonl\n",
      "I0228 17:21:34.167884 140190032566016 run_manager.py:688] file/dir modified: /tmp/wandb/run-20200228_141228-yibs0k59/wandb-summary.json\n"
     ]
    },
    {
     "name": "stdout",
     "output_type": "stream",
     "text": [
      "[2020-02-28 17:21:34,562] \n",
      "5/10 * Epoch 5 (train): _base/lr=0.0010 | _base/momentum=0.9000 | _timers/_fps=19481.6557 | _timers/batch_time=0.0278 | _timers/data_time=0.0094 | _timers/model_time=0.0184 | accuracy01=81.4049 | loss=0.4702\n",
      "5/10 * Epoch 5 (valid): _base/lr=0.0010 | _base/momentum=0.9000 | _timers/_fps=27950.0360 | _timers/batch_time=0.0209 | _timers/data_time=0.0067 | _timers/model_time=0.0142 | accuracy01=77.3321 | loss=0.5776\n"
     ]
    },
    {
     "name": "stderr",
     "output_type": "stream",
     "text": [
      "I0228 17:21:34.562179 140194564380480 logging.py:153] \n",
      "5/10 * Epoch 5 (train): _base/lr=0.0010 | _base/momentum=0.9000 | _timers/_fps=19481.6557 | _timers/batch_time=0.0278 | _timers/data_time=0.0094 | _timers/model_time=0.0184 | accuracy01=81.4049 | loss=0.4702\n",
      "5/10 * Epoch 5 (valid): _base/lr=0.0010 | _base/momentum=0.9000 | _timers/_fps=27950.0360 | _timers/batch_time=0.0209 | _timers/data_time=0.0067 | _timers/model_time=0.0142 | accuracy01=77.3321 | loss=0.5776\n"
     ]
    },
    {
     "name": "stdout",
     "output_type": "stream",
     "text": [
      "6/10 * Epoch (train):  15% 160/1073 [00:16<01:31, 10.02it/s, accuracy01=84.570, loss=0.415]"
     ]
    },
    {
     "name": "stderr",
     "output_type": "stream",
     "text": [
      "I0228 17:21:51.135252 140190032566016 run_manager.py:688] file/dir modified: /tmp/wandb/run-20200228_141228-yibs0k59/wandb-metadata.json\n"
     ]
    },
    {
     "name": "stdout",
     "output_type": "stream",
     "text": [
      "6/10 * Epoch (train):  25% 271/1073 [00:27<01:23,  9.57it/s, accuracy01=81.055, loss=0.464]"
     ]
    },
    {
     "name": "stderr",
     "output_type": "stream",
     "text": [
      "I0228 17:22:02.137783 140190032566016 run_manager.py:688] file/dir modified: /tmp/wandb/run-20200228_141228-yibs0k59/wandb-events.jsonl\n"
     ]
    },
    {
     "name": "stdout",
     "output_type": "stream",
     "text": [
      "6/10 * Epoch (train):  30% 320/1073 [00:32<01:20,  9.39it/s, accuracy01=82.031, loss=0.462]"
     ]
    },
    {
     "name": "stderr",
     "output_type": "stream",
     "text": [
      "I0228 17:22:07.138933 140190032566016 run_manager.py:688] file/dir modified: /tmp/wandb/run-20200228_141228-yibs0k59/wandb-metadata.json\n"
     ]
    },
    {
     "name": "stdout",
     "output_type": "stream",
     "text": [
      "6/10 * Epoch (train):  44% 473/1073 [00:48<00:58, 10.23it/s, accuracy01=83.008, loss=0.413]"
     ]
    },
    {
     "name": "stderr",
     "output_type": "stream",
     "text": [
      "I0228 17:22:23.142651 140190032566016 run_manager.py:688] file/dir modified: /tmp/wandb/run-20200228_141228-yibs0k59/wandb-metadata.json\n"
     ]
    },
    {
     "name": "stdout",
     "output_type": "stream",
     "text": [
      "6/10 * Epoch (train):  53% 565/1073 [00:57<00:50, 10.08it/s, accuracy01=82.227, loss=0.441]"
     ]
    },
    {
     "name": "stderr",
     "output_type": "stream",
     "text": [
      "I0228 17:22:32.147374 140190032566016 run_manager.py:688] file/dir modified: /tmp/wandb/run-20200228_141228-yibs0k59/wandb-events.jsonl\n"
     ]
    },
    {
     "name": "stdout",
     "output_type": "stream",
     "text": [
      "6/10 * Epoch (train):  59% 636/1073 [01:04<00:42, 10.16it/s, accuracy01=82.227, loss=0.433]"
     ]
    },
    {
     "name": "stderr",
     "output_type": "stream",
     "text": [
      "I0228 17:22:39.152103 140190032566016 run_manager.py:688] file/dir modified: /tmp/wandb/run-20200228_141228-yibs0k59/wandb-metadata.json\n"
     ]
    },
    {
     "name": "stdout",
     "output_type": "stream",
     "text": [
      "6/10 * Epoch (train):  74% 795/1073 [01:20<00:30,  9.11it/s, accuracy01=82.031, loss=0.464]"
     ]
    },
    {
     "name": "stderr",
     "output_type": "stream",
     "text": [
      "I0228 17:22:55.155748 140190032566016 run_manager.py:688] file/dir modified: /tmp/wandb/run-20200228_141228-yibs0k59/wandb-metadata.json\n"
     ]
    },
    {
     "name": "stdout",
     "output_type": "stream",
     "text": [
      "6/10 * Epoch (train):  80% 858/1073 [01:27<00:22,  9.50it/s, accuracy01=82.617, loss=0.464]"
     ]
    },
    {
     "name": "stderr",
     "output_type": "stream",
     "text": [
      "I0228 17:23:02.157359 140190032566016 run_manager.py:688] file/dir modified: /tmp/wandb/run-20200228_141228-yibs0k59/wandb-events.jsonl\n"
     ]
    },
    {
     "name": "stdout",
     "output_type": "stream",
     "text": [
      "6/10 * Epoch (train):  88% 945/1073 [01:36<00:12, 10.13it/s, accuracy01=81.445, loss=0.474]"
     ]
    },
    {
     "name": "stderr",
     "output_type": "stream",
     "text": [
      "I0228 17:23:11.160759 140190032566016 run_manager.py:688] file/dir modified: /tmp/wandb/run-20200228_141228-yibs0k59/wandb-metadata.json\n"
     ]
    },
    {
     "name": "stdout",
     "output_type": "stream",
     "text": [
      "6/10 * Epoch (train): 100% 1073/1073 [01:49<00:00,  9.81it/s, accuracy01=79.688, loss=0.509]\n",
      "6/10 * Epoch (valid): 100% 20/20 [00:00<00:00, 29.44it/s, accuracy01=68.421, loss=0.742]\n",
      "[2020-02-28 17:23:24,956] \n",
      "6/10 * Epoch 6 (train): _base/lr=0.0010 | _base/momentum=0.9000 | _timers/_fps=19671.3535 | _timers/batch_time=0.0269 | _timers/data_time=0.0086 | _timers/model_time=0.0182 | accuracy01=83.3002 | loss=0.4283\n",
      "6/10 * Epoch 6 (valid): _base/lr=0.0010 | _base/momentum=0.9000 | _timers/_fps=27806.4799 | _timers/batch_time=0.0211 | _timers/data_time=0.0067 | _timers/model_time=0.0144 | accuracy01=77.4640 | loss=0.5824\n"
     ]
    },
    {
     "name": "stderr",
     "output_type": "stream",
     "text": [
      "I0228 17:23:24.956384 140194564380480 logging.py:153] \n",
      "6/10 * Epoch 6 (train): _base/lr=0.0010 | _base/momentum=0.9000 | _timers/_fps=19671.3535 | _timers/batch_time=0.0269 | _timers/data_time=0.0086 | _timers/model_time=0.0182 | accuracy01=83.3002 | loss=0.4283\n",
      "6/10 * Epoch 6 (valid): _base/lr=0.0010 | _base/momentum=0.9000 | _timers/_fps=27806.4799 | _timers/batch_time=0.0211 | _timers/data_time=0.0067 | _timers/model_time=0.0144 | accuracy01=77.4640 | loss=0.5824\n"
     ]
    },
    {
     "name": "stdout",
     "output_type": "stream",
     "text": [
      "7/10 * Epoch (train):   0% 0/1073 [00:00<?, ?it/s]"
     ]
    },
    {
     "name": "stderr",
     "output_type": "stream",
     "text": [
      "I0228 17:23:25.249299 140190032566016 run_manager.py:688] file/dir modified: /tmp/wandb/run-20200228_141228-yibs0k59/wandb-history.jsonl\n",
      "I0228 17:23:25.265422 140190032566016 run_manager.py:688] file/dir modified: /tmp/wandb/run-20200228_141228-yibs0k59/wandb-summary.json\n"
     ]
    },
    {
     "name": "stdout",
     "output_type": "stream",
     "text": [
      "7/10 * Epoch (train):   1% 15/1073 [00:02<02:04,  8.47it/s, accuracy01=86.133, loss=0.341]"
     ]
    },
    {
     "name": "stderr",
     "output_type": "stream",
     "text": [
      "I0228 17:23:27.244866 140190032566016 run_manager.py:688] file/dir modified: /tmp/wandb/run-20200228_141228-yibs0k59/wandb-metadata.json\n"
     ]
    },
    {
     "name": "stdout",
     "output_type": "stream",
     "text": [
      "7/10 * Epoch (train):   6% 62/1073 [00:07<01:50,  9.18it/s, accuracy01=88.086, loss=0.300]"
     ]
    },
    {
     "name": "stderr",
     "output_type": "stream",
     "text": [
      "I0228 17:23:32.245984 140190032566016 run_manager.py:688] file/dir modified: /tmp/wandb/run-20200228_141228-yibs0k59/wandb-events.jsonl\n"
     ]
    },
    {
     "name": "stdout",
     "output_type": "stream",
     "text": [
      "7/10 * Epoch (train):  16% 168/1073 [00:18<01:38,  9.23it/s, accuracy01=85.352, loss=0.420]"
     ]
    },
    {
     "name": "stderr",
     "output_type": "stream",
     "text": [
      "I0228 17:23:43.255033 140190032566016 run_manager.py:688] file/dir modified: /tmp/wandb/run-20200228_141228-yibs0k59/wandb-metadata.json\n"
     ]
    },
    {
     "name": "stdout",
     "output_type": "stream",
     "text": [
      "7/10 * Epoch (train):  30% 324/1073 [00:34<01:21,  9.21it/s, accuracy01=86.328, loss=0.363]"
     ]
    },
    {
     "name": "stderr",
     "output_type": "stream",
     "text": [
      "I0228 17:23:59.258586 140190032566016 run_manager.py:688] file/dir modified: /tmp/wandb/run-20200228_141228-yibs0k59/wandb-metadata.json\n"
     ]
    },
    {
     "name": "stdout",
     "output_type": "stream",
     "text": [
      "7/10 * Epoch (train):  34% 363/1073 [00:38<01:12,  9.75it/s, accuracy01=86.914, loss=0.354]"
     ]
    },
    {
     "name": "stderr",
     "output_type": "stream",
     "text": [
      "I0228 17:24:03.264981 140190032566016 run_manager.py:688] file/dir modified: /tmp/wandb/run-20200228_141228-yibs0k59/wandb-events.jsonl\n"
     ]
    },
    {
     "name": "stdout",
     "output_type": "stream",
     "text": [
      "7/10 * Epoch (train):  45% 481/1073 [00:50<01:04,  9.22it/s, accuracy01=86.523, loss=0.330]"
     ]
    },
    {
     "name": "stderr",
     "output_type": "stream",
     "text": [
      "I0228 17:24:15.267672 140190032566016 run_manager.py:688] file/dir modified: /tmp/wandb/run-20200228_141228-yibs0k59/wandb-metadata.json\n"
     ]
    },
    {
     "name": "stdout",
     "output_type": "stream",
     "text": [
      "7/10 * Epoch (train):  59% 636/1073 [01:06<00:46,  9.39it/s, accuracy01=83.398, loss=0.432]"
     ]
    },
    {
     "name": "stderr",
     "output_type": "stream",
     "text": [
      "I0228 17:24:31.276138 140190032566016 run_manager.py:688] file/dir modified: /tmp/wandb/run-20200228_141228-yibs0k59/wandb-metadata.json\n"
     ]
    },
    {
     "name": "stdout",
     "output_type": "stream",
     "text": [
      "7/10 * Epoch (train):  61% 657/1073 [01:08<00:39, 10.50it/s, accuracy01=84.766, loss=0.379]"
     ]
    },
    {
     "name": "stderr",
     "output_type": "stream",
     "text": [
      "I0228 17:24:33.276632 140190032566016 run_manager.py:688] file/dir modified: /tmp/wandb/run-20200228_141228-yibs0k59/wandb-events.jsonl\n"
     ]
    },
    {
     "name": "stdout",
     "output_type": "stream",
     "text": [
      "7/10 * Epoch (train):  74% 795/1073 [01:22<00:28,  9.83it/s, accuracy01=83.203, loss=0.397]"
     ]
    },
    {
     "name": "stderr",
     "output_type": "stream",
     "text": [
      "I0228 17:24:47.280037 140190032566016 run_manager.py:688] file/dir modified: /tmp/wandb/run-20200228_141228-yibs0k59/wandb-metadata.json\n"
     ]
    },
    {
     "name": "stdout",
     "output_type": "stream",
     "text": [
      "7/10 * Epoch (train):  89% 956/1073 [01:38<00:11, 10.12it/s, accuracy01=83.789, loss=0.431]"
     ]
    },
    {
     "name": "stderr",
     "output_type": "stream",
     "text": [
      "I0228 17:25:03.286904 140190032566016 run_manager.py:688] file/dir modified: /tmp/wandb/run-20200228_141228-yibs0k59/wandb-metadata.json\n",
      "I0228 17:25:03.287607 140190032566016 run_manager.py:688] file/dir modified: /tmp/wandb/run-20200228_141228-yibs0k59/wandb-events.jsonl\n"
     ]
    },
    {
     "name": "stdout",
     "output_type": "stream",
     "text": [
      "7/10 * Epoch (train): 100% 1073/1073 [01:50<00:00,  9.72it/s, accuracy01=84.180, loss=0.439]\n",
      "7/10 * Epoch (valid): 100% 20/20 [00:00<00:00, 30.05it/s, accuracy01=68.421, loss=0.709]\n"
     ]
    },
    {
     "name": "stderr",
     "output_type": "stream",
     "text": [
      "I0228 17:25:16.295366 140190032566016 run_manager.py:688] file/dir modified: /tmp/wandb/run-20200228_141228-yibs0k59/wandb-history.jsonl\n",
      "I0228 17:25:16.296590 140190032566016 run_manager.py:688] file/dir modified: /tmp/wandb/run-20200228_141228-yibs0k59/wandb-summary.json\n"
     ]
    },
    {
     "name": "stdout",
     "output_type": "stream",
     "text": [
      "[2020-02-28 17:25:16,454] \n",
      "7/10 * Epoch 7 (train): _base/lr=0.0010 | _base/momentum=0.9000 | _timers/_fps=19577.8983 | _timers/batch_time=0.0271 | _timers/data_time=0.0087 | _timers/model_time=0.0183 | accuracy01=84.9308 | loss=0.3891\n",
      "7/10 * Epoch 7 (valid): _base/lr=0.0010 | _base/momentum=0.9000 | _timers/_fps=27438.7822 | _timers/batch_time=0.0212 | _timers/data_time=0.0068 | _timers/model_time=0.0143 | accuracy01=77.8351 | loss=0.6016\n"
     ]
    },
    {
     "name": "stderr",
     "output_type": "stream",
     "text": [
      "I0228 17:25:16.454039 140194564380480 logging.py:153] \n",
      "7/10 * Epoch 7 (train): _base/lr=0.0010 | _base/momentum=0.9000 | _timers/_fps=19577.8983 | _timers/batch_time=0.0271 | _timers/data_time=0.0087 | _timers/model_time=0.0183 | accuracy01=84.9308 | loss=0.3891\n",
      "7/10 * Epoch 7 (valid): _base/lr=0.0010 | _base/momentum=0.9000 | _timers/_fps=27438.7822 | _timers/batch_time=0.0212 | _timers/data_time=0.0068 | _timers/model_time=0.0143 | accuracy01=77.8351 | loss=0.6016\n"
     ]
    },
    {
     "name": "stdout",
     "output_type": "stream",
     "text": [
      "8/10 * Epoch (train):   2% 21/1073 [00:02<01:52,  9.36it/s, accuracy01=88.281, loss=0.338]"
     ]
    },
    {
     "name": "stderr",
     "output_type": "stream",
     "text": [
      "I0228 17:25:19.296027 140190032566016 run_manager.py:688] file/dir modified: /tmp/wandb/run-20200228_141228-yibs0k59/wandb-metadata.json\n"
     ]
    },
    {
     "name": "stdout",
     "output_type": "stream",
     "text": [
      "8/10 * Epoch (train):  15% 158/1073 [00:16<01:31, 10.05it/s, accuracy01=86.523, loss=0.318]"
     ]
    },
    {
     "name": "stderr",
     "output_type": "stream",
     "text": [
      "I0228 17:25:33.300097 140190032566016 run_manager.py:688] file/dir modified: /tmp/wandb/run-20200228_141228-yibs0k59/wandb-events.jsonl\n"
     ]
    },
    {
     "name": "stdout",
     "output_type": "stream",
     "text": [
      "8/10 * Epoch (train):  17% 178/1073 [00:18<01:39,  8.97it/s, accuracy01=86.133, loss=0.341]"
     ]
    },
    {
     "name": "stderr",
     "output_type": "stream",
     "text": [
      "I0228 17:25:35.306290 140190032566016 run_manager.py:688] file/dir modified: /tmp/wandb/run-20200228_141228-yibs0k59/wandb-metadata.json\n"
     ]
    },
    {
     "name": "stdout",
     "output_type": "stream",
     "text": [
      "8/10 * Epoch (train):  31% 329/1073 [00:34<01:19,  9.33it/s, accuracy01=88.281, loss=0.321]"
     ]
    },
    {
     "name": "stderr",
     "output_type": "stream",
     "text": [
      "I0228 17:25:51.310522 140190032566016 run_manager.py:688] file/dir modified: /tmp/wandb/run-20200228_141228-yibs0k59/wandb-metadata.json\n"
     ]
    },
    {
     "name": "stdout",
     "output_type": "stream",
     "text": [
      "8/10 * Epoch (train):  42% 446/1073 [00:46<01:05,  9.54it/s, accuracy01=84.180, loss=0.371]"
     ]
    },
    {
     "name": "stderr",
     "output_type": "stream",
     "text": [
      "I0228 17:26:03.316076 140190032566016 run_manager.py:688] file/dir modified: /tmp/wandb/run-20200228_141228-yibs0k59/wandb-events.jsonl\n"
     ]
    },
    {
     "name": "stdout",
     "output_type": "stream",
     "text": [
      "8/10 * Epoch (train):  45% 483/1073 [00:50<01:04,  9.13it/s, accuracy01=85.938, loss=0.372]"
     ]
    },
    {
     "name": "stderr",
     "output_type": "stream",
     "text": [
      "I0228 17:26:07.317854 140190032566016 run_manager.py:688] file/dir modified: /tmp/wandb/run-20200228_141228-yibs0k59/wandb-metadata.json\n"
     ]
    },
    {
     "name": "stdout",
     "output_type": "stream",
     "text": [
      "8/10 * Epoch (train):  59% 633/1073 [01:06<00:46,  9.54it/s, accuracy01=87.305, loss=0.336]"
     ]
    },
    {
     "name": "stderr",
     "output_type": "stream",
     "text": [
      "I0228 17:26:23.327427 140190032566016 run_manager.py:688] file/dir modified: /tmp/wandb/run-20200228_141228-yibs0k59/wandb-metadata.json\n"
     ]
    },
    {
     "name": "stdout",
     "output_type": "stream",
     "text": [
      "8/10 * Epoch (train):  68% 732/1073 [01:16<00:33, 10.28it/s, accuracy01=85.742, loss=0.385]"
     ]
    },
    {
     "name": "stderr",
     "output_type": "stream",
     "text": [
      "I0228 17:26:33.337479 140190032566016 run_manager.py:688] file/dir modified: /tmp/wandb/run-20200228_141228-yibs0k59/wandb-events.jsonl\n"
     ]
    },
    {
     "name": "stdout",
     "output_type": "stream",
     "text": [
      "8/10 * Epoch (train):  74% 793/1073 [01:22<00:27, 10.09it/s, accuracy01=83.008, loss=0.464]"
     ]
    },
    {
     "name": "stderr",
     "output_type": "stream",
     "text": [
      "I0228 17:26:39.352019 140190032566016 run_manager.py:688] file/dir modified: /tmp/wandb/run-20200228_141228-yibs0k59/wandb-metadata.json\n"
     ]
    },
    {
     "name": "stdout",
     "output_type": "stream",
     "text": [
      "8/10 * Epoch (train):  88% 948/1073 [01:38<00:12,  9.88it/s, accuracy01=86.719, loss=0.336]"
     ]
    },
    {
     "name": "stderr",
     "output_type": "stream",
     "text": [
      "I0228 17:26:55.367099 140190032566016 run_manager.py:688] file/dir modified: /tmp/wandb/run-20200228_141228-yibs0k59/wandb-metadata.json\n"
     ]
    },
    {
     "name": "stdout",
     "output_type": "stream",
     "text": [
      "8/10 * Epoch (train):  97% 1036/1073 [01:47<00:03,  9.95it/s, accuracy01=86.914, loss=0.305]"
     ]
    },
    {
     "name": "stderr",
     "output_type": "stream",
     "text": [
      "I0228 17:27:04.372694 140190032566016 run_manager.py:688] file/dir modified: /tmp/wandb/run-20200228_141228-yibs0k59/wandb-events.jsonl\n"
     ]
    },
    {
     "name": "stdout",
     "output_type": "stream",
     "text": [
      "8/10 * Epoch (train): 100% 1073/1073 [01:51<00:00,  9.62it/s, accuracy01=85.352, loss=0.354]\n",
      "8/10 * Epoch (valid): 100% 20/20 [00:00<00:00, 30.36it/s, accuracy01=72.807, loss=0.738]\n",
      "Early stop at 7 epoch\n",
      "[2020-02-28 17:27:08,977] \n",
      "8/10 * Epoch 8 (train): _base/lr=0.0010 | _base/momentum=0.9000 | _timers/_fps=19432.1934 | _timers/batch_time=0.0272 | _timers/data_time=0.0087 | _timers/model_time=0.0185 | accuracy01=86.5338 | loss=0.3510\n",
      "8/10 * Epoch 8 (valid): _base/lr=0.0010 | _base/momentum=0.9000 | _timers/_fps=27712.7028 | _timers/batch_time=0.0210 | _timers/data_time=0.0069 | _timers/model_time=0.0141 | accuracy01=77.7712 | loss=0.6380\n"
     ]
    },
    {
     "name": "stderr",
     "output_type": "stream",
     "text": [
      "I0228 17:27:08.977583 140194564380480 logging.py:153] \n",
      "8/10 * Epoch 8 (train): _base/lr=0.0010 | _base/momentum=0.9000 | _timers/_fps=19432.1934 | _timers/batch_time=0.0272 | _timers/data_time=0.0087 | _timers/model_time=0.0185 | accuracy01=86.5338 | loss=0.3510\n",
      "8/10 * Epoch 8 (valid): _base/lr=0.0010 | _base/momentum=0.9000 | _timers/_fps=27712.7028 | _timers/batch_time=0.0210 | _timers/data_time=0.0069 | _timers/model_time=0.0141 | accuracy01=77.7712 | loss=0.6380\n",
      "I0228 17:27:08.980981 140194564380480 run_manager.py:1068] shutting down system stats and metadata service\n"
     ]
    },
    {
     "name": "stdout",
     "output_type": "stream",
     "text": [
      "Top best models:\n",
      "logdir/checkpoints/train.5.pth\t0.5776\n",
      "logdir/checkpoints/train.4.pth\t0.5795\n"
     ]
    },
    {
     "name": "stderr",
     "output_type": "stream",
     "text": [
      "I0228 17:27:09.378340 140190032566016 run_manager.py:688] file/dir modified: /tmp/wandb/run-20200228_141228-yibs0k59/wandb-history.jsonl\n",
      "I0228 17:27:09.381037 140190032566016 run_manager.py:688] file/dir modified: /tmp/wandb/run-20200228_141228-yibs0k59/wandb-summary.json\n",
      "I0228 17:27:09.384158 140190032566016 run_manager.py:688] file/dir modified: /tmp/wandb/run-20200228_141228-yibs0k59/wandb-events.jsonl\n",
      "I0228 17:27:09.386618 140190032566016 run_manager.py:677] file/dir created: /tmp/wandb/run-20200228_141228-yibs0k59/log.txt\n",
      "I0228 17:27:09.388877 140190032566016 run_manager.py:677] file/dir created: /tmp/wandb/run-20200228_141228-yibs0k59/train_log/events.out.tfevents.1582899151.UNIT-1482.10852.0\n",
      "I0228 17:27:09.393844 140190032566016 run_manager.py:677] file/dir created: /tmp/wandb/run-20200228_141228-yibs0k59/valid_log/events.out.tfevents.1582899256.UNIT-1482.10852.1\n",
      "I0228 17:27:09.397264 140190032566016 run_manager.py:677] file/dir created: /tmp/wandb/run-20200228_141228-yibs0k59/train_log\n",
      "I0228 17:27:09.399258 140190032566016 run_manager.py:677] file/dir created: /tmp/wandb/run-20200228_141228-yibs0k59/checkpoints\n",
      "I0228 17:27:09.401136 140190032566016 run_manager.py:677] file/dir created: /tmp/wandb/run-20200228_141228-yibs0k59/valid_log\n",
      "I0228 17:27:09.500878 140194564380480 run_manager.py:1080] stopping streaming files and file change observer\n",
      "I0228 17:27:10.378494 140190032566016 run_manager.py:688] file/dir modified: /tmp/wandb/run-20200228_141228-yibs0k59/wandb-metadata.json\n"
     ]
    }
   ],
   "source": [
    "# use SupervisedWandbRunner runner to send statistics to wandb\n",
    "runner = dl.SupervisedWandbRunner(DEVICE)\n",
    "runner.train(model, \n",
    "             loaders=loaders,\n",
    "             num_epochs=num_epochs,\n",
    "             logdir=logdir,\n",
    "             criterion=nn.CrossEntropyLoss(),\n",
    "             optimizer=optimizer, \n",
    "             scheduler=scheduler,  \n",
    "             callbacks=[\n",
    "                dl.callbacks.CheckpointCallback(2), # save 2 best models (by epoch) into logdir\n",
    "                dl.callbacks.AccuracyCallback(), # also show accuracy metric\n",
    "                dl.callbacks.EarlyStoppingCallback(3), # stop training, if valid loss does not improve last 3 epochs\n",
    "             ],\n",
    "             # send current hyperparam values to wandb\n",
    "             monitoring_params={\n",
    "                 'entity': 'denaas', # your wandb username\n",
    "                 'project': 'text-augmentation', # project name\n",
    "                 'name': 'snli-example', # name of the specific run\n",
    "                 'group': 'examples',\n",
    "                 'config': {\n",
    "                     'model': 'bilstm',\n",
    "                     'optimizer': str(optimizer),\n",
    "                     'scheduler': 'plateau',\n",
    "                     'early_stop': 3,\n",
    "                     'vocab_size': vocab_size,\n",
    "                     'h_size': h_size,\n",
    "                     'n_layers': n_layers,\n",
    "                     'dropout': dropout,\n",
    "                     'batch_size': batch_size,\n",
    "                     'embed_dim': embed_dim,\n",
    "                 },\n",
    "             },\n",
    "#              check=True, # set if you want to check pipeline for correctness, without actual training\n",
    "             verbose=True)"
   ]
  },
  {
   "cell_type": "code",
   "execution_count": 9,
   "metadata": {
    "colab": {},
    "colab_type": "code",
    "id": "bLqDXEs5RAza",
    "scrolled": true
   },
   "outputs": [
    {
     "name": "stdout",
     "output_type": "stream",
     "text": [
      "1/1 * Epoch (infer): 100% 20/20 [00:00<00:00, 31.74it/s]\n",
      "0.7769747557003257\n"
     ]
    },
    {
     "name": "stderr",
     "output_type": "stream",
     "text": [
      "I0228 17:27:13.311534 140194564380480 run_manager.py:924] system metrics and metadata threads started\n",
      "I0228 17:27:13.314374 140194564380480 run_manager.py:933] checking resume status, waiting at most 10 seconds\n",
      "I0228 17:27:13.996902 140189225703168 run_manager.py:688] file/dir modified: /tmp/wandb/run-20200228_141228-yibs0k59/wandb-metadata.json\n",
      "I0228 17:27:14.627063 140194564380480 run_manager.py:951] resuming run from id: UnVuOnYxOnlpYnMwazU5OnRleHQtYXVnbWVudGF0aW9uOmRlbmFhcw==\n",
      "I0228 17:27:14.650969 140194564380480 run_manager.py:963] upserting run before process can begin, waiting at most 10 seconds\n",
      "I0228 17:27:14.950582 140190032566016 run_manager.py:1048] saving patches\n",
      "I0228 17:27:15.279410 140190032566016 run_manager.py:1052] saving pip packages\n",
      "I0228 17:27:15.281081 140190032566016 run_manager.py:1054] initializing streaming files api\n",
      "I0228 17:27:15.281960 140190032566016 run_manager.py:1061] unblocking file change observer, beginning sync with W&B servers\n",
      "I0228 17:27:15.283294 140189225703168 run_manager.py:688] file/dir modified: /tmp/wandb/run-20200228_141228-yibs0k59/config.yaml\n",
      "I0228 17:27:15.294369 140194564380480 run_manager.py:1068] shutting down system stats and metadata service\n",
      "I0228 17:27:15.547785 140189225703168 run_manager.py:688] file/dir modified: /tmp/wandb/run-20200228_141228-yibs0k59/wandb-history.jsonl\n",
      "I0228 17:27:15.548482 140189225703168 run_manager.py:688] file/dir modified: /tmp/wandb/run-20200228_141228-yibs0k59/wandb-summary.json\n",
      "I0228 17:27:15.549157 140189225703168 run_manager.py:688] file/dir modified: /tmp/wandb/run-20200228_141228-yibs0k59/wandb-events.jsonl\n",
      "I0228 17:27:16.005770 140189225703168 run_manager.py:688] file/dir modified: /tmp/wandb/run-20200228_141228-yibs0k59/diff.patch\n",
      "I0228 17:27:16.006294 140189225703168 run_manager.py:688] file/dir modified: /tmp/wandb/run-20200228_141228-yibs0k59/requirements.txt\n",
      "I0228 17:27:16.006859 140189225703168 run_manager.py:688] file/dir modified: /tmp/wandb/run-20200228_141228-yibs0k59/wandb-history.jsonl\n",
      "I0228 17:27:16.007342 140189225703168 run_manager.py:688] file/dir modified: /tmp/wandb/run-20200228_141228-yibs0k59/wandb-summary.json\n",
      "I0228 17:27:16.008131 140189225703168 run_manager.py:688] file/dir modified: /tmp/wandb/run-20200228_141228-yibs0k59/wandb-events.jsonl\n",
      "I0228 17:27:16.315108 140194564380480 run_manager.py:1080] stopping streaming files and file change observer\n",
      "I0228 17:27:17.006926 140189225703168 run_manager.py:688] file/dir modified: /tmp/wandb/run-20200228_141228-yibs0k59/wandb-metadata.json\n"
     ]
    }
   ],
   "source": [
    "#  Evaluate on the test set\n",
    "\n",
    "runner = dl.SupervisedRunner()\n",
    "y_pred = runner.predict_loader(model, test_iter, verbose=True)\n",
    "# Do not forget, that the NN compute the class logits, from which you actually have to make prediction\n",
    "y_pred = np.argmax(y_pred, axis=1)\n",
    "y_true = np.concatenate([x['targets'].cpu().numpy() for x in test_iter])\n",
    "\n",
    "test_score = accuracy_score(y_true, y_pred)\n",
    "print(test_score)\n",
    "\n",
    "# send test score to wandb\n",
    "wandb.log({'acc/test': test_score})"
   ]
  },
  {
   "cell_type": "code",
   "execution_count": null,
   "metadata": {},
   "outputs": [],
   "source": []
  }
 ],
 "metadata": {
  "accelerator": "GPU",
  "colab": {
   "collapsed_sections": [],
   "name": "snli-bilstm.ipynb",
   "provenance": []
  },
  "kernelspec": {
   "display_name": "Python 3",
   "language": "python",
   "name": "python3"
  },
  "language_info": {
   "codemirror_mode": {
    "name": "ipython",
    "version": 3
   },
   "file_extension": ".py",
   "mimetype": "text/x-python",
   "name": "python",
   "nbconvert_exporter": "python",
   "pygments_lexer": "ipython3",
   "version": "3.7.6"
  }
 },
 "nbformat": 4,
 "nbformat_minor": 4
}
